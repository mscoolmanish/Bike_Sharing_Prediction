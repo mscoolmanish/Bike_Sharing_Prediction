{
 "cells": [
  {
   "cell_type": "markdown",
   "metadata": {},
   "source": [
    "# Problem Statement\n",
    "A bike-sharing system is a service in which bikes are made available for shared use to individuals on a short term basis for a price or free. Many bike share systems allow people to borrow a bike from a \"dock\" which is usually computer-controlled wherein the user enters the payment information, and the system unlocks it. This bike can then be returned to another dock belonging to the same system.\n",
    "\n",
    "\n",
    "# Goal:\n",
    "Required to model the demand for shared bikes with the available independent variables. It will be used by the management to understand how exactly the demands vary with different features. They can accordingly manipulate the business strategy to meet the demand levels and meet the customer's expectations. Further, the model will be a good way for management to understand the demand dynamics of a new market. \n"
   ]
  },
  {
   "cell_type": "markdown",
   "metadata": {},
   "source": [
    "# Imports"
   ]
  },
  {
   "cell_type": "code",
   "execution_count": 1,
   "metadata": {},
   "outputs": [],
   "source": [
    "import numpy as np\n",
    "import pandas as pd\n",
    "import seaborn as sns\n",
    "import matplotlib.pyplot as plt"
   ]
  },
  {
   "cell_type": "markdown",
   "metadata": {},
   "source": [
    "# Read File"
   ]
  },
  {
   "cell_type": "code",
   "execution_count": 2,
   "metadata": {},
   "outputs": [
    {
     "name": "stdout",
     "output_type": "stream",
     "text": [
      "(730, 15)\n"
     ]
    },
    {
     "data": {
      "text/html": [
       "<div>\n",
       "<style scoped>\n",
       "    .dataframe tbody tr th:only-of-type {\n",
       "        vertical-align: middle;\n",
       "    }\n",
       "\n",
       "    .dataframe tbody tr th {\n",
       "        vertical-align: top;\n",
       "    }\n",
       "\n",
       "    .dataframe thead th {\n",
       "        text-align: right;\n",
       "    }\n",
       "</style>\n",
       "<table border=\"1\" class=\"dataframe\">\n",
       "  <thead>\n",
       "    <tr style=\"text-align: right;\">\n",
       "      <th></th>\n",
       "      <th>dteday</th>\n",
       "      <th>season</th>\n",
       "      <th>yr</th>\n",
       "      <th>mnth</th>\n",
       "      <th>holiday</th>\n",
       "      <th>weekday</th>\n",
       "      <th>workingday</th>\n",
       "      <th>weathersit</th>\n",
       "      <th>temp</th>\n",
       "      <th>atemp</th>\n",
       "      <th>hum</th>\n",
       "      <th>windspeed</th>\n",
       "      <th>casual</th>\n",
       "      <th>registered</th>\n",
       "      <th>cnt</th>\n",
       "    </tr>\n",
       "    <tr>\n",
       "      <th>instant</th>\n",
       "      <th></th>\n",
       "      <th></th>\n",
       "      <th></th>\n",
       "      <th></th>\n",
       "      <th></th>\n",
       "      <th></th>\n",
       "      <th></th>\n",
       "      <th></th>\n",
       "      <th></th>\n",
       "      <th></th>\n",
       "      <th></th>\n",
       "      <th></th>\n",
       "      <th></th>\n",
       "      <th></th>\n",
       "      <th></th>\n",
       "    </tr>\n",
       "  </thead>\n",
       "  <tbody>\n",
       "    <tr>\n",
       "      <td>1</td>\n",
       "      <td>2018-01-01</td>\n",
       "      <td>1</td>\n",
       "      <td>0</td>\n",
       "      <td>1</td>\n",
       "      <td>0</td>\n",
       "      <td>6</td>\n",
       "      <td>0</td>\n",
       "      <td>2</td>\n",
       "      <td>14.110847</td>\n",
       "      <td>18.18125</td>\n",
       "      <td>80.5833</td>\n",
       "      <td>10.749882</td>\n",
       "      <td>331</td>\n",
       "      <td>654</td>\n",
       "      <td>985</td>\n",
       "    </tr>\n",
       "    <tr>\n",
       "      <td>2</td>\n",
       "      <td>2018-02-01</td>\n",
       "      <td>1</td>\n",
       "      <td>0</td>\n",
       "      <td>1</td>\n",
       "      <td>0</td>\n",
       "      <td>0</td>\n",
       "      <td>0</td>\n",
       "      <td>2</td>\n",
       "      <td>14.902598</td>\n",
       "      <td>17.68695</td>\n",
       "      <td>69.6087</td>\n",
       "      <td>16.652113</td>\n",
       "      <td>131</td>\n",
       "      <td>670</td>\n",
       "      <td>801</td>\n",
       "    </tr>\n",
       "    <tr>\n",
       "      <td>3</td>\n",
       "      <td>2018-03-01</td>\n",
       "      <td>1</td>\n",
       "      <td>0</td>\n",
       "      <td>1</td>\n",
       "      <td>0</td>\n",
       "      <td>1</td>\n",
       "      <td>1</td>\n",
       "      <td>1</td>\n",
       "      <td>8.050924</td>\n",
       "      <td>9.47025</td>\n",
       "      <td>43.7273</td>\n",
       "      <td>16.636703</td>\n",
       "      <td>120</td>\n",
       "      <td>1229</td>\n",
       "      <td>1349</td>\n",
       "    </tr>\n",
       "    <tr>\n",
       "      <td>4</td>\n",
       "      <td>2018-04-01</td>\n",
       "      <td>1</td>\n",
       "      <td>0</td>\n",
       "      <td>1</td>\n",
       "      <td>0</td>\n",
       "      <td>2</td>\n",
       "      <td>1</td>\n",
       "      <td>1</td>\n",
       "      <td>8.200000</td>\n",
       "      <td>10.60610</td>\n",
       "      <td>59.0435</td>\n",
       "      <td>10.739832</td>\n",
       "      <td>108</td>\n",
       "      <td>1454</td>\n",
       "      <td>1562</td>\n",
       "    </tr>\n",
       "    <tr>\n",
       "      <td>5</td>\n",
       "      <td>2018-05-01</td>\n",
       "      <td>1</td>\n",
       "      <td>0</td>\n",
       "      <td>1</td>\n",
       "      <td>0</td>\n",
       "      <td>3</td>\n",
       "      <td>1</td>\n",
       "      <td>1</td>\n",
       "      <td>9.305237</td>\n",
       "      <td>11.46350</td>\n",
       "      <td>43.6957</td>\n",
       "      <td>12.522300</td>\n",
       "      <td>82</td>\n",
       "      <td>1518</td>\n",
       "      <td>1600</td>\n",
       "    </tr>\n",
       "  </tbody>\n",
       "</table>\n",
       "</div>"
      ],
      "text/plain": [
       "            dteday  season  yr  mnth  holiday  weekday  workingday  \\\n",
       "instant                                                              \n",
       "1       2018-01-01       1   0     1        0        6           0   \n",
       "2       2018-02-01       1   0     1        0        0           0   \n",
       "3       2018-03-01       1   0     1        0        1           1   \n",
       "4       2018-04-01       1   0     1        0        2           1   \n",
       "5       2018-05-01       1   0     1        0        3           1   \n",
       "\n",
       "         weathersit       temp     atemp      hum  windspeed  casual  \\\n",
       "instant                                                                \n",
       "1                 2  14.110847  18.18125  80.5833  10.749882     331   \n",
       "2                 2  14.902598  17.68695  69.6087  16.652113     131   \n",
       "3                 1   8.050924   9.47025  43.7273  16.636703     120   \n",
       "4                 1   8.200000  10.60610  59.0435  10.739832     108   \n",
       "5                 1   9.305237  11.46350  43.6957  12.522300      82   \n",
       "\n",
       "         registered   cnt  \n",
       "instant                    \n",
       "1               654   985  \n",
       "2               670   801  \n",
       "3              1229  1349  \n",
       "4              1454  1562  \n",
       "5              1518  1600  "
      ]
     },
     "execution_count": 2,
     "metadata": {},
     "output_type": "execute_result"
    }
   ],
   "source": [
    "bike_sharing_org = pd.read_csv(\"F:/Decodr/Complete/Case Studies/Case Study 5 _ Bike Sharing/day.csv\", index_col=0);\n",
    "bike_sharing_org['dteday'] = pd.to_datetime(bike_sharing_org['dteday'])\n",
    "print(bike_sharing_org.shape)\n",
    "bike_sharing_org.head()"
   ]
  },
  {
   "cell_type": "code",
   "execution_count": 3,
   "metadata": {},
   "outputs": [
    {
     "name": "stdout",
     "output_type": "stream",
     "text": [
      "Data has 15 columns.\n",
      "There are 0 columns that have missing values.\n",
      "\n",
      "<class 'pandas.core.frame.DataFrame'>\n",
      "Int64Index: 730 entries, 1 to 730\n",
      "Data columns (total 15 columns):\n",
      "dteday        730 non-null datetime64[ns]\n",
      "season        730 non-null int64\n",
      "yr            730 non-null int64\n",
      "mnth          730 non-null int64\n",
      "holiday       730 non-null int64\n",
      "weekday       730 non-null int64\n",
      "workingday    730 non-null int64\n",
      "weathersit    730 non-null int64\n",
      "temp          730 non-null float64\n",
      "atemp         730 non-null float64\n",
      "hum           730 non-null float64\n",
      "windspeed     730 non-null float64\n",
      "casual        730 non-null int64\n",
      "registered    730 non-null int64\n",
      "cnt           730 non-null int64\n",
      "dtypes: datetime64[ns](1), float64(4), int64(10)\n",
      "memory usage: 91.2 KB\n"
     ]
    }
   ],
   "source": [
    "def findMissingValuesInData(df):\n",
    "        missingValue = df.isnull().sum()\n",
    "        missingValuePercent = 100 * missingValue / len(df)\n",
    "        missingValueTable = pd.concat([missingValue, missingValuePercent], axis=1)\n",
    "        renamedColumnsOfTable = missingValueTable.rename(\n",
    "        columns = {0 : 'Missing Values', 1 : '% of Total Values'})\n",
    "        renamedColumnsOfTable = renamedColumnsOfTable[renamedColumnsOfTable.iloc[:,1] != 0].sort_values('% of Total Values', ascending=False).round(6)\n",
    "        print (\"Data has \" + str(df.shape[1]) + \" columns.\\n\"      \n",
    "            \"There are \" + str(renamedColumnsOfTable.shape[0]) +\n",
    "              \" columns that have missing values.\")\n",
    "        return renamedColumnsOfTable\n",
    "    \n",
    "findMissingValuesInData(bike_sharing_org)\n",
    "print()\n",
    "bike_sharing_org.info()"
   ]
  },
  {
   "cell_type": "code",
   "execution_count": 4,
   "metadata": {
    "scrolled": true
   },
   "outputs": [],
   "source": [
    "# corrMatrix = bike_sharing_org.corr()\n",
    "# corrMatrix"
   ]
  },
  {
   "cell_type": "code",
   "execution_count": 5,
   "metadata": {
    "scrolled": true
   },
   "outputs": [],
   "source": [
    "# sns.heatmap(corrMatrix, annot=True)\n",
    "# plt.show()"
   ]
  },
  {
   "cell_type": "code",
   "execution_count": 6,
   "metadata": {},
   "outputs": [],
   "source": [
    "# # with regression\n",
    "# sns.pairplot(bike_sharing_org, height=6, aspect =1)\n",
    "# plt.show()"
   ]
  },
  {
   "cell_type": "code",
   "execution_count": 7,
   "metadata": {},
   "outputs": [],
   "source": [
    "def plotMyLineGraph(x,y,title,xlabel,ylabel):\n",
    "    plt.rcParams[\"figure.figsize\"] = (10,5)\n",
    "    plt.plot(x, y)\n",
    "    plt.xticks(x,rotation='vertical')\n",
    "    plt.xlabel(xlabel)\n",
    "    plt.ylabel(ylabel)\n",
    "    plt.title(title)\n",
    "    \n",
    "    plt.show()\n",
    "    \n",
    "def plotMyBarGraph (x,y,title,xlabel,ylabel, xlabel_seq=None):\n",
    "    plt.rcParams[\"figure.figsize\"] = (10,5) #Specifies the size of plot\n",
    "    plt.bar(np.arange(len(x)), y, align='center', alpha=0.7)\n",
    "    plt.xticks(np.arange(len(x)), xlabel_seq if xlabel_seq else x)\n",
    "    plt.ylabel(ylabel)\n",
    "    plt.xlabel(xlabel)\n",
    "    plt.title(title)\n",
    "\n",
    "    plt.show()"
   ]
  },
  {
   "cell_type": "code",
   "execution_count": 8,
   "metadata": {},
   "outputs": [
    {
     "data": {
      "text/plain": [
       "Index(['dteday', 'season', 'yr', 'mnth', 'holiday', 'weekday', 'workingday',\n",
       "       'weathersit', 'temp', 'atemp', 'hum', 'windspeed', 'casual',\n",
       "       'registered', 'cnt'],\n",
       "      dtype='object')"
      ]
     },
     "execution_count": 8,
     "metadata": {},
     "output_type": "execute_result"
    }
   ],
   "source": [
    "bike_sharing_org.columns"
   ]
  },
  {
   "cell_type": "markdown",
   "metadata": {},
   "source": [
    "## Assigning redabale Strings to Categorical data for Visualisation "
   ]
  },
  {
   "cell_type": "code",
   "execution_count": 9,
   "metadata": {},
   "outputs": [
    {
     "data": {
      "text/html": [
       "<div>\n",
       "<style scoped>\n",
       "    .dataframe tbody tr th:only-of-type {\n",
       "        vertical-align: middle;\n",
       "    }\n",
       "\n",
       "    .dataframe tbody tr th {\n",
       "        vertical-align: top;\n",
       "    }\n",
       "\n",
       "    .dataframe thead th {\n",
       "        text-align: right;\n",
       "    }\n",
       "</style>\n",
       "<table border=\"1\" class=\"dataframe\">\n",
       "  <thead>\n",
       "    <tr style=\"text-align: right;\">\n",
       "      <th></th>\n",
       "      <th>dteday</th>\n",
       "      <th>season</th>\n",
       "      <th>yr</th>\n",
       "      <th>mnth</th>\n",
       "      <th>holiday</th>\n",
       "      <th>weekday</th>\n",
       "      <th>workingday</th>\n",
       "      <th>weathersit</th>\n",
       "      <th>temp</th>\n",
       "      <th>atemp</th>\n",
       "      <th>hum</th>\n",
       "      <th>windspeed</th>\n",
       "      <th>casual</th>\n",
       "      <th>registered</th>\n",
       "      <th>cnt</th>\n",
       "      <th>YearMonth</th>\n",
       "      <th>actual_yr</th>\n",
       "      <th>day</th>\n",
       "    </tr>\n",
       "    <tr>\n",
       "      <th>instant</th>\n",
       "      <th></th>\n",
       "      <th></th>\n",
       "      <th></th>\n",
       "      <th></th>\n",
       "      <th></th>\n",
       "      <th></th>\n",
       "      <th></th>\n",
       "      <th></th>\n",
       "      <th></th>\n",
       "      <th></th>\n",
       "      <th></th>\n",
       "      <th></th>\n",
       "      <th></th>\n",
       "      <th></th>\n",
       "      <th></th>\n",
       "      <th></th>\n",
       "      <th></th>\n",
       "      <th></th>\n",
       "    </tr>\n",
       "  </thead>\n",
       "  <tbody>\n",
       "    <tr>\n",
       "      <td>1</td>\n",
       "      <td>2018-01-01</td>\n",
       "      <td>spring</td>\n",
       "      <td>0</td>\n",
       "      <td>Jan</td>\n",
       "      <td>No</td>\n",
       "      <td>Mon</td>\n",
       "      <td>No</td>\n",
       "      <td>cloudy</td>\n",
       "      <td>14.110847</td>\n",
       "      <td>18.18125</td>\n",
       "      <td>80.5833</td>\n",
       "      <td>10.749882</td>\n",
       "      <td>331</td>\n",
       "      <td>654</td>\n",
       "      <td>985</td>\n",
       "      <td>201801</td>\n",
       "      <td>2018</td>\n",
       "      <td>1</td>\n",
       "    </tr>\n",
       "    <tr>\n",
       "      <td>2</td>\n",
       "      <td>2018-02-01</td>\n",
       "      <td>spring</td>\n",
       "      <td>0</td>\n",
       "      <td>Jan</td>\n",
       "      <td>No</td>\n",
       "      <td>Tue</td>\n",
       "      <td>No</td>\n",
       "      <td>cloudy</td>\n",
       "      <td>14.902598</td>\n",
       "      <td>17.68695</td>\n",
       "      <td>69.6087</td>\n",
       "      <td>16.652113</td>\n",
       "      <td>131</td>\n",
       "      <td>670</td>\n",
       "      <td>801</td>\n",
       "      <td>201801</td>\n",
       "      <td>2018</td>\n",
       "      <td>1</td>\n",
       "    </tr>\n",
       "    <tr>\n",
       "      <td>3</td>\n",
       "      <td>2018-03-01</td>\n",
       "      <td>spring</td>\n",
       "      <td>0</td>\n",
       "      <td>Jan</td>\n",
       "      <td>No</td>\n",
       "      <td>Wed</td>\n",
       "      <td>Yes</td>\n",
       "      <td>clear</td>\n",
       "      <td>8.050924</td>\n",
       "      <td>9.47025</td>\n",
       "      <td>43.7273</td>\n",
       "      <td>16.636703</td>\n",
       "      <td>120</td>\n",
       "      <td>1229</td>\n",
       "      <td>1349</td>\n",
       "      <td>201801</td>\n",
       "      <td>2018</td>\n",
       "      <td>1</td>\n",
       "    </tr>\n",
       "    <tr>\n",
       "      <td>4</td>\n",
       "      <td>2018-04-01</td>\n",
       "      <td>spring</td>\n",
       "      <td>0</td>\n",
       "      <td>Jan</td>\n",
       "      <td>No</td>\n",
       "      <td>Thu</td>\n",
       "      <td>Yes</td>\n",
       "      <td>clear</td>\n",
       "      <td>8.200000</td>\n",
       "      <td>10.60610</td>\n",
       "      <td>59.0435</td>\n",
       "      <td>10.739832</td>\n",
       "      <td>108</td>\n",
       "      <td>1454</td>\n",
       "      <td>1562</td>\n",
       "      <td>201801</td>\n",
       "      <td>2018</td>\n",
       "      <td>1</td>\n",
       "    </tr>\n",
       "    <tr>\n",
       "      <td>5</td>\n",
       "      <td>2018-05-01</td>\n",
       "      <td>spring</td>\n",
       "      <td>0</td>\n",
       "      <td>Jan</td>\n",
       "      <td>No</td>\n",
       "      <td>Fri</td>\n",
       "      <td>Yes</td>\n",
       "      <td>clear</td>\n",
       "      <td>9.305237</td>\n",
       "      <td>11.46350</td>\n",
       "      <td>43.6957</td>\n",
       "      <td>12.522300</td>\n",
       "      <td>82</td>\n",
       "      <td>1518</td>\n",
       "      <td>1600</td>\n",
       "      <td>201801</td>\n",
       "      <td>2018</td>\n",
       "      <td>1</td>\n",
       "    </tr>\n",
       "    <tr>\n",
       "      <td>...</td>\n",
       "      <td>...</td>\n",
       "      <td>...</td>\n",
       "      <td>...</td>\n",
       "      <td>...</td>\n",
       "      <td>...</td>\n",
       "      <td>...</td>\n",
       "      <td>...</td>\n",
       "      <td>...</td>\n",
       "      <td>...</td>\n",
       "      <td>...</td>\n",
       "      <td>...</td>\n",
       "      <td>...</td>\n",
       "      <td>...</td>\n",
       "      <td>...</td>\n",
       "      <td>...</td>\n",
       "      <td>...</td>\n",
       "      <td>...</td>\n",
       "      <td>...</td>\n",
       "    </tr>\n",
       "    <tr>\n",
       "      <td>726</td>\n",
       "      <td>2019-12-27</td>\n",
       "      <td>spring</td>\n",
       "      <td>1</td>\n",
       "      <td>Dec</td>\n",
       "      <td>No</td>\n",
       "      <td>Sat</td>\n",
       "      <td>Yes</td>\n",
       "      <td>cloudy</td>\n",
       "      <td>10.420847</td>\n",
       "      <td>11.33210</td>\n",
       "      <td>65.2917</td>\n",
       "      <td>23.458911</td>\n",
       "      <td>247</td>\n",
       "      <td>1867</td>\n",
       "      <td>2114</td>\n",
       "      <td>201912</td>\n",
       "      <td>2019</td>\n",
       "      <td>27</td>\n",
       "    </tr>\n",
       "    <tr>\n",
       "      <td>727</td>\n",
       "      <td>2019-12-28</td>\n",
       "      <td>spring</td>\n",
       "      <td>1</td>\n",
       "      <td>Dec</td>\n",
       "      <td>No</td>\n",
       "      <td>Sun</td>\n",
       "      <td>Yes</td>\n",
       "      <td>cloudy</td>\n",
       "      <td>10.386653</td>\n",
       "      <td>12.75230</td>\n",
       "      <td>59.0000</td>\n",
       "      <td>10.416557</td>\n",
       "      <td>644</td>\n",
       "      <td>2451</td>\n",
       "      <td>3095</td>\n",
       "      <td>201912</td>\n",
       "      <td>2019</td>\n",
       "      <td>28</td>\n",
       "    </tr>\n",
       "    <tr>\n",
       "      <td>728</td>\n",
       "      <td>2019-12-29</td>\n",
       "      <td>spring</td>\n",
       "      <td>1</td>\n",
       "      <td>Dec</td>\n",
       "      <td>No</td>\n",
       "      <td>Mon</td>\n",
       "      <td>No</td>\n",
       "      <td>cloudy</td>\n",
       "      <td>10.386653</td>\n",
       "      <td>12.12000</td>\n",
       "      <td>75.2917</td>\n",
       "      <td>8.333661</td>\n",
       "      <td>159</td>\n",
       "      <td>1182</td>\n",
       "      <td>1341</td>\n",
       "      <td>201912</td>\n",
       "      <td>2019</td>\n",
       "      <td>29</td>\n",
       "    </tr>\n",
       "    <tr>\n",
       "      <td>729</td>\n",
       "      <td>2019-12-30</td>\n",
       "      <td>spring</td>\n",
       "      <td>1</td>\n",
       "      <td>Dec</td>\n",
       "      <td>No</td>\n",
       "      <td>Tue</td>\n",
       "      <td>No</td>\n",
       "      <td>clear</td>\n",
       "      <td>10.489153</td>\n",
       "      <td>11.58500</td>\n",
       "      <td>48.3333</td>\n",
       "      <td>23.500518</td>\n",
       "      <td>364</td>\n",
       "      <td>1432</td>\n",
       "      <td>1796</td>\n",
       "      <td>201912</td>\n",
       "      <td>2019</td>\n",
       "      <td>30</td>\n",
       "    </tr>\n",
       "    <tr>\n",
       "      <td>730</td>\n",
       "      <td>2019-12-31</td>\n",
       "      <td>spring</td>\n",
       "      <td>1</td>\n",
       "      <td>Dec</td>\n",
       "      <td>No</td>\n",
       "      <td>Wed</td>\n",
       "      <td>Yes</td>\n",
       "      <td>cloudy</td>\n",
       "      <td>8.849153</td>\n",
       "      <td>11.17435</td>\n",
       "      <td>57.7500</td>\n",
       "      <td>10.374682</td>\n",
       "      <td>439</td>\n",
       "      <td>2290</td>\n",
       "      <td>2729</td>\n",
       "      <td>201912</td>\n",
       "      <td>2019</td>\n",
       "      <td>31</td>\n",
       "    </tr>\n",
       "  </tbody>\n",
       "</table>\n",
       "<p>730 rows × 18 columns</p>\n",
       "</div>"
      ],
      "text/plain": [
       "            dteday  season  yr mnth holiday weekday workingday weathersit  \\\n",
       "instant                                                                     \n",
       "1       2018-01-01  spring   0  Jan      No     Mon         No     cloudy   \n",
       "2       2018-02-01  spring   0  Jan      No     Tue         No     cloudy   \n",
       "3       2018-03-01  spring   0  Jan      No     Wed        Yes      clear   \n",
       "4       2018-04-01  spring   0  Jan      No     Thu        Yes      clear   \n",
       "5       2018-05-01  spring   0  Jan      No     Fri        Yes      clear   \n",
       "...            ...     ...  ..  ...     ...     ...        ...        ...   \n",
       "726     2019-12-27  spring   1  Dec      No     Sat        Yes     cloudy   \n",
       "727     2019-12-28  spring   1  Dec      No     Sun        Yes     cloudy   \n",
       "728     2019-12-29  spring   1  Dec      No     Mon         No     cloudy   \n",
       "729     2019-12-30  spring   1  Dec      No     Tue         No      clear   \n",
       "730     2019-12-31  spring   1  Dec      No     Wed        Yes     cloudy   \n",
       "\n",
       "              temp     atemp      hum  windspeed  casual  registered   cnt  \\\n",
       "instant                                                                      \n",
       "1        14.110847  18.18125  80.5833  10.749882     331         654   985   \n",
       "2        14.902598  17.68695  69.6087  16.652113     131         670   801   \n",
       "3         8.050924   9.47025  43.7273  16.636703     120        1229  1349   \n",
       "4         8.200000  10.60610  59.0435  10.739832     108        1454  1562   \n",
       "5         9.305237  11.46350  43.6957  12.522300      82        1518  1600   \n",
       "...            ...       ...      ...        ...     ...         ...   ...   \n",
       "726      10.420847  11.33210  65.2917  23.458911     247        1867  2114   \n",
       "727      10.386653  12.75230  59.0000  10.416557     644        2451  3095   \n",
       "728      10.386653  12.12000  75.2917   8.333661     159        1182  1341   \n",
       "729      10.489153  11.58500  48.3333  23.500518     364        1432  1796   \n",
       "730       8.849153  11.17435  57.7500  10.374682     439        2290  2729   \n",
       "\n",
       "         YearMonth  actual_yr  day  \n",
       "instant                             \n",
       "1           201801       2018    1  \n",
       "2           201801       2018    1  \n",
       "3           201801       2018    1  \n",
       "4           201801       2018    1  \n",
       "5           201801       2018    1  \n",
       "...            ...        ...  ...  \n",
       "726         201912       2019   27  \n",
       "727         201912       2019   28  \n",
       "728         201912       2019   29  \n",
       "729         201912       2019   30  \n",
       "730         201912       2019   31  \n",
       "\n",
       "[730 rows x 18 columns]"
      ]
     },
     "execution_count": 9,
     "metadata": {},
     "output_type": "execute_result"
    }
   ],
   "source": [
    "bike_sharing = bike_sharing_org[['dteday', 'season', 'yr', 'mnth', 'holiday', 'weekday',\n",
    "       'workingday', 'weathersit', 'temp', 'atemp', 'hum', 'windspeed',\n",
    "       'casual', 'registered', 'cnt']]\n",
    "# bike_sharing[\"workingday_holiday\"] = bike_sharing[\"workingday\"]+(bike_sharing[\"holiday\"]*2)\n",
    "# bike_sharing[\"workingday_holiday\"] = bike_sharing[\"workingday_holiday\"].replace(0, \"NO-work,NO-holiday\")\n",
    "# bike_sharing[\"workingday_holiday\"] = bike_sharing[\"workingday_holiday\"].replace(1, \"work,No-holiday\")\n",
    "# bike_sharing[\"workingday_holiday\"] = bike_sharing[\"workingday_holiday\"].replace(2, \"NO-work,holiday\")\n",
    "\n",
    "bike_sharing['YearMonth'] = (bike_sharing.yr+2018)*100+bike_sharing.mnth \n",
    "def num_month_to_str(m):\n",
    "    return m.map({1:\"Jan\",2:\"Feb\",3:\"Mar\",4:\"Apr\",5:\"May\",6:\"Jun\",7:\"Jul\",8:\"Aug\",9:\"Sep\",10:\"Oct\",11:\"Nov\",12:\"Dec\"})\n",
    "bike_sharing[[\"mnth\"]] = bike_sharing[[\"mnth\"]].apply(num_month_to_str)\n",
    "bike_sharing['actual_yr'] = bike_sharing['yr']+2018\n",
    "\n",
    "bike_sharing.loc[(bike_sharing['season'] == 1),'season'] = \"spring\"\n",
    "bike_sharing.loc[(bike_sharing['season'] == 2),'season'] = \"summer\"\n",
    "bike_sharing.loc[(bike_sharing['season'] == 3),'season'] = \"fall\"\n",
    "bike_sharing.loc[(bike_sharing['season'] == 4),'season'] = \"winter\"\n",
    "\n",
    "bike_sharing.loc[(bike_sharing['weathersit'] == 1),'weathersit'] = \"clear\"\n",
    "bike_sharing.loc[(bike_sharing['weathersit'] == 2),'weathersit'] = \"cloudy\"\n",
    "bike_sharing.loc[(bike_sharing['weathersit'] == 3),'weathersit'] = \"light rain\"\n",
    "bike_sharing.loc[(bike_sharing['weathersit'] == 4),'weathersit'] = \"heavy rain\"\n",
    "\n",
    "bike_sharing[\"holiday\"] = [\"Yes\" if x else \"No\" for x in bike_sharing[\"holiday\"]]\n",
    "bike_sharing[\"workingday\"] = [\"Yes\" if x else \"No\" for x in bike_sharing[\"workingday\"]]\n",
    "\n",
    "def num_weekday_to_str(m):\n",
    "    return m.map({1:\"Wed\",2:\"Thu\",3:\"Fri\",4:\"Sat\",5:\"Sun\",6:\"Mon\",0:\"Tue\"})\n",
    "bike_sharing[[\"weekday\"]] = bike_sharing[[\"weekday\"]].apply(num_weekday_to_str)\n",
    "\n",
    "bike_sharing['day'] = pd.DatetimeIndex(bike_sharing['dteday']).day\n",
    "\n",
    "\n",
    "\n",
    "bike_sharing"
   ]
  },
  {
   "cell_type": "code",
   "execution_count": 10,
   "metadata": {
    "scrolled": true
   },
   "outputs": [
    {
     "data": {
      "text/plain": [
       "Index(['dteday', 'season', 'yr', 'mnth', 'holiday', 'weekday', 'workingday',\n",
       "       'weathersit', 'temp', 'atemp', 'hum', 'windspeed', 'casual',\n",
       "       'registered', 'cnt', 'YearMonth', 'actual_yr', 'day'],\n",
       "      dtype='object')"
      ]
     },
     "execution_count": 10,
     "metadata": {},
     "output_type": "execute_result"
    }
   ],
   "source": [
    "bike_sharing.columns"
   ]
  },
  {
   "cell_type": "markdown",
   "metadata": {},
   "source": [
    "# Bar Plot for Categorical type data "
   ]
  },
  {
   "cell_type": "code",
   "execution_count": 11,
   "metadata": {},
   "outputs": [
    {
     "name": "stdout",
     "output_type": "stream",
     "text": [
      "1) season Vs Total Bikes on Rentals.\n",
      "fall      188\n",
      "summer    184\n",
      "spring    180\n",
      "winter    178\n",
      "Name: season, dtype: int64\n"
     ]
    },
    {
     "data": {
      "image/png": "[encoded data removed]",
      "text/plain": [
       "<Figure size 720x360 with 1 Axes>"
      ]
     },
     "metadata": {
      "needs_background": "light"
     },
     "output_type": "display_data"
    },
    {
     "name": "stdout",
     "output_type": "stream",
     "text": [
      "\n",
      "\n",
      "\n",
      "2) actual_yr Vs Total Bikes on Rentals.\n",
      "2019    365\n",
      "2018    365\n",
      "Name: actual_yr, dtype: int64\n"
     ]
    },
    {
     "data": {
      "image/png": "[encoded data removed]",
      "text/plain": [
       "<Figure size 720x360 with 1 Axes>"
      ]
     },
     "metadata": {
      "needs_background": "light"
     },
     "output_type": "display_data"
    },
    {
     "name": "stdout",
     "output_type": "stream",
     "text": [
      "\n",
      "\n",
      "\n",
      "3) mnth Vs Total Bikes on Rentals.\n",
      "Aug    62\n",
      "Dec    62\n",
      "Jul    62\n",
      "Jan    62\n",
      "May    62\n",
      "Mar    62\n",
      "Oct    62\n",
      "Sep    60\n",
      "Nov    60\n",
      "Jun    60\n",
      "Apr    60\n",
      "Feb    56\n",
      "Name: mnth, dtype: int64\n"
     ]
    },
    {
     "data": {
      "image/png": "[encoded data removed]",
      "text/plain": [
       "<Figure size 720x360 with 1 Axes>"
      ]
     },
     "metadata": {
      "needs_background": "light"
     },
     "output_type": "display_data"
    },
    {
     "name": "stdout",
     "output_type": "stream",
     "text": [
      "\n",
      "\n",
      "\n",
      "4) holiday Vs Total Bikes on Rentals.\n",
      "No     709\n",
      "Yes     21\n",
      "Name: holiday, dtype: int64\n"
     ]
    },
    {
     "data": {
      "image/png": "[encoded data removed]",
      "text/plain": [
       "<Figure size 720x360 with 1 Axes>"
      ]
     },
     "metadata": {
      "needs_background": "light"
     },
     "output_type": "display_data"
    },
    {
     "name": "stdout",
     "output_type": "stream",
     "text": [
      "\n",
      "\n",
      "\n",
      "5) weekday Vs Total Bikes on Rentals.\n",
      "Wed    105\n",
      "Mon    105\n",
      "Tue    105\n",
      "Thu    104\n",
      "Sun    104\n",
      "Sat    104\n",
      "Fri    103\n",
      "Name: weekday, dtype: int64\n"
     ]
    },
    {
     "data": {
      "image/png": "[encoded data removed]",
      "text/plain": [
       "<Figure size 720x360 with 1 Axes>"
      ]
     },
     "metadata": {
      "needs_background": "light"
     },
     "output_type": "display_data"
    },
    {
     "name": "stdout",
     "output_type": "stream",
     "text": [
      "\n",
      "\n",
      "\n",
      "6) workingday Vs Total Bikes on Rentals.\n",
      "Yes    499\n",
      "No     231\n",
      "Name: workingday, dtype: int64\n"
     ]
    },
    {
     "data": {
      "image/png": "[encoded data removed]",
      "text/plain": [
       "<Figure size 720x360 with 1 Axes>"
      ]
     },
     "metadata": {
      "needs_background": "light"
     },
     "output_type": "display_data"
    },
    {
     "name": "stdout",
     "output_type": "stream",
     "text": [
      "\n",
      "\n",
      "\n",
      "7) weathersit Vs Total Bikes on Rentals.\n",
      "clear         463\n",
      "cloudy        246\n",
      "light rain     21\n",
      "Name: weathersit, dtype: int64\n"
     ]
    },
    {
     "data": {
      "image/png": "[encoded data removed]",
      "text/plain": [
       "<Figure size 720x360 with 1 Axes>"
      ]
     },
     "metadata": {
      "needs_background": "light"
     },
     "output_type": "display_data"
    },
    {
     "name": "stdout",
     "output_type": "stream",
     "text": [
      "\n",
      "\n",
      "\n",
      "8) day Vs Total Bikes on Rentals.\n",
      "16    24\n",
      "15    24\n",
      "2     24\n",
      "3     24\n",
      "4     24\n",
      "5     24\n",
      "6     24\n",
      "7     24\n",
      "8     24\n",
      "9     24\n",
      "10    24\n",
      "11    24\n",
      "12    24\n",
      "13    24\n",
      "14    24\n",
      "1     24\n",
      "17    24\n",
      "18    24\n",
      "19    24\n",
      "20    24\n",
      "21    24\n",
      "22    24\n",
      "23    24\n",
      "24    24\n",
      "25    24\n",
      "26    24\n",
      "27    24\n",
      "28    24\n",
      "30    22\n",
      "29    22\n",
      "31    14\n",
      "Name: day, dtype: int64\n"
     ]
    },
    {
     "data": {
      "image/png": "[encoded data removed]",
      "text/plain": [
       "<Figure size 720x360 with 1 Axes>"
      ]
     },
     "metadata": {
      "needs_background": "light"
     },
     "output_type": "display_data"
    },
    {
     "name": "stdout",
     "output_type": "stream",
     "text": [
      "\n",
      "\n",
      "\n"
     ]
    }
   ],
   "source": [
    "i = 1\n",
    "# for col in ['season', 'actual_yr', 'mnth', 'holiday', 'weekday','workingday', 'weathersit', 'workingday_holiday']:\n",
    "for col in ['season', 'actual_yr', 'mnth', 'holiday', 'weekday','workingday', 'weathersit', 'day']:\n",
    "    print(f\"{i}) {col} Vs Total Bikes on Rentals.\")\n",
    "    i+=1\n",
    "    tempList = bike_sharing[[col, 'cnt']]\n",
    "    tempList = tempList.groupby(by=[col]).sum()\n",
    "    print(bike_sharing[col].value_counts())\n",
    "#     label_seq = [\"Jan\",\"Feb\",\"Mar\",\"Apr\",\"May\",\"Jun\",\"Jul\",\"Aug\",\"Sep\",\"Oct\",\"Nov\",\"Dec\"] if col=='mnth' else None\n",
    "    plotMyBarGraph(tempList.index, tempList.cnt, '', col, 'Total Bikes On Rental')\n",
    "    print(\"\\n\\n\")"
   ]
  },
  {
   "cell_type": "markdown",
   "metadata": {},
   "source": [
    "## Analysis of Box Plots above\n",
    "\n",
    "##### 1) season Vs Total Bikes on Rentals.\n",
    "Seems in Spring season, minimum number of Bikes were rented, compare to other three season which approx. have same number of bikes on rent.\n",
    "\n",
    "##### 2) actual_yr Vs Total Bikes on Rentals.\n",
    "2019 has almost 60% hike in business compare to 2018.\n",
    "\n",
    "##### 3) mnth Vs Total Bikes on Rentals.\n",
    "Shows May to September is peak season for business.\n",
    "\n",
    "##### 4) holiday Vs Total Bikes on Rentals.\n",
    "Bike rental count on Holidays is almost nigligible, most of business happens on non-holiday days.\n",
    "\n",
    "##### 5) weekday Vs Total Bikes on Rentals.\n",
    "Seems day of week doesnt matter business is almost same on all days of week.\n",
    "\n",
    "##### 6) workingday Vs Total Bikes on Rentals.\n",
    "More than twice business happens if it is working day. Result inline with Graph 4 above, on holiday almost no business. \n",
    "\n",
    "##### 7) weathersit Vs Total Bikes on Rentals.\n",
    "Number of Weather situation corrosponds to --\n",
    "1: Clear, Few clouds, Partly cloudy, Partly cloudy\n",
    "2: Mist + Cloudy, Mist + Broken clouds, Mist + Few clouds, Mist\n",
    "3: Light Snow, Light Rain + Thunderstorm + Scattered clouds, Light Rain + Scattered clouds\n",
    "4: Heavy Rain + Ice Pallets + Thunderstorm + Mist, Snow + Fog \n",
    "\n",
    "We can see absolutely no bikes on rent if weather is \"Heavy Rain + Ice Pallets + Thunderstorm + Mist, Snow + Fog \" which is kind of obvious. Most business happens when weather is Clear, Few clouds, Partly cloudy, Partly cloudy. and least on Light Snow, Light Rain + Thunderstorm + Scattered clouds, Light Rain + Scattered clouds\n",
    "\n",
    "\n",
    "##### 8) day Vs Total Bikes on Rentals.\n",
    "Looks like start of month is bit slow but it gains pace quickly from mid of first week till end of second week, business is high, but towards end of month business slows down.\n",
    "\n",
    "\n",
    "#### From all above charts it is clear that, most of bikes are hired on work day, may be customer prefer their office comute with these rented bikes. We should explore more on this opportunity. whereas it seems on holiday bike rent business is very slow. One reason of this behaviour could be customer prefer staying at home on holidays. We can run a campaign so  that customers will be egar to enjoy bike ride on holidays too."
   ]
  },
  {
   "cell_type": "code",
   "execution_count": 12,
   "metadata": {},
   "outputs": [],
   "source": [
    "def creatBins(df,col_list,bins=-1):\n",
    "    temp_df = df[col_list]\n",
    "    if(bins < 1):\n",
    "        desc_df = temp_df.describe()\n",
    "    #     label_list=[col_list[0]+\"<\"+str(desc_df[col_list[0]][\"25%\"]),\n",
    "    #                 str(desc_df[col_list[0]][\"25%\"])+\"<\"+col_list[0]+\"<\"+str(desc_df[col_list[0]][\"50%\"]),\n",
    "    #                 str(desc_df[col_list[0]][\"50%\"])+\"<\"+col_list[0]+\"<\"+str(desc_df[col_list[0]][\"75%\"]),\n",
    "    #                 str(desc_df[col_list[0]][\"75%\"])+\"<\"+col_list[0]\n",
    "    #                ]\n",
    "\n",
    "        label_list=[\"Q1 - \"+str(desc_df[col_list[0]][\"25%\"]),\"Q2 - \"+str(desc_df[col_list[0]][\"50%\"]),\"Q3 - \"+str(desc_df[col_list[0]][\"75%\"]),\"Q4 - \"+str(temp_df[col_list[0]].max())]\n",
    "    #     label_list=[\"Q1\",\"Q2\",\"Q3\",\"Q4\"]\n",
    "\n",
    "        val_list=[]\n",
    "        val_list.append(temp_df[temp_df[col_list[0]] <= desc_df[col_list[0]][\"25%\"] ][col_list[1]].sum())\n",
    "        val_list.append(temp_df[(desc_df[col_list[0]][\"25%\"]  < temp_df[col_list[0]]) & (temp_df[col_list[0]] <= desc_df[col_list[0]][\"50%\"]) ][col_list[1]].sum())\n",
    "        val_list.append(temp_df[(desc_df[col_list[0]][\"50%\"]  < temp_df[col_list[0]]) & (temp_df[col_list[0]] <= desc_df[col_list[0]][\"75%\"]) ][col_list[1]].sum())\n",
    "        val_list.append(temp_df[desc_df[col_list[0]][\"75%\"]  < temp_df[col_list[0]] ][col_list[1]].sum())\n",
    "    else:\n",
    "        offset = (temp_df[col_list[0]].max() - temp_df[col_list[0]].min())/bins\n",
    "        label_list=[]\n",
    "        for x in range(bins+1):\n",
    "            label_list.append(temp_df[col_list[0]].min() + (x*offset))\n",
    "            \n",
    "        val_list=[]                \n",
    "        for count in range(len(label_list)):\n",
    "            if count == 0:\n",
    "                val_list.append(temp_df[temp_df[col_list[0]] <= label_list[count] ][col_list[1]].sum())\n",
    "            else:\n",
    "                val_list.append(temp_df[(label_list[count-1]  < temp_df[col_list[0]]) & (temp_df[col_list[0]] <= label_list[count]) ][col_list[1]].sum())\n",
    "        \n",
    "\n",
    "        \n",
    "        \n",
    "    d = {col_list[0]: label_list, col_list[1]: val_list}\n",
    "    result_df = pd. DataFrame(d)\n",
    "    return result_df\n",
    "   "
   ]
  },
  {
   "cell_type": "markdown",
   "metadata": {},
   "source": [
    "# Line Plot for Continuous data"
   ]
  },
  {
   "cell_type": "code",
   "execution_count": 13,
   "metadata": {},
   "outputs": [
    {
     "name": "stdout",
     "output_type": "stream",
     "text": [
      "1) temp Vs Total Bikes on Rentals.\n"
     ]
    },
    {
     "data": {
      "image/png": "[encoded data removed]",
      "text/plain": [
       "<Figure size 720x360 with 1 Axes>"
      ]
     },
     "metadata": {
      "needs_background": "light"
     },
     "output_type": "display_data"
    },
    {
     "name": "stdout",
     "output_type": "stream",
     "text": [
      "\n",
      "\n",
      "\n",
      "2) atemp Vs Total Bikes on Rentals.\n"
     ]
    },
    {
     "data": {
      "image/png": "[encoded data removed]",
      "text/plain": [
       "<Figure size 720x360 with 1 Axes>"
      ]
     },
     "metadata": {
      "needs_background": "light"
     },
     "output_type": "display_data"
    },
    {
     "name": "stdout",
     "output_type": "stream",
     "text": [
      "\n",
      "\n",
      "\n",
      "3) hum Vs Total Bikes on Rentals.\n"
     ]
    },
    {
     "data": {
      "image/png": "[encoded data removed]",
      "text/plain": [
       "<Figure size 720x360 with 1 Axes>"
      ]
     },
     "metadata": {
      "needs_background": "light"
     },
     "output_type": "display_data"
    },
    {
     "name": "stdout",
     "output_type": "stream",
     "text": [
      "\n",
      "\n",
      "\n",
      "4) windspeed Vs Total Bikes on Rentals.\n"
     ]
    },
    {
     "data": {
      "image/png": "[encoded data removed]",
      "text/plain": [
       "<Figure size 720x360 with 1 Axes>"
      ]
     },
     "metadata": {
      "needs_background": "light"
     },
     "output_type": "display_data"
    },
    {
     "name": "stdout",
     "output_type": "stream",
     "text": [
      "\n",
      "\n",
      "\n"
     ]
    }
   ],
   "source": [
    "i = 1\n",
    "for col in ['temp', 'atemp', 'hum', 'windspeed']:\n",
    "    print(f\"{i}) {col} Vs Total Bikes on Rentals.\")\n",
    "    i +=1\n",
    "    tempList = creatBins(bike_sharing, [col, \"cnt\"],15)\n",
    "#     tempList['Year'] = (tempList.index+2018)\n",
    "    plotMyLineGraph(tempList[col], tempList.cnt, f'{col} Vs Total Bikes on Rentals.', col, 'Total Bikes On Rental')\n",
    "    print(\"\\n\\n\")"
   ]
  },
  {
   "cell_type": "markdown",
   "metadata": {},
   "source": [
    "### Analysis of Line Plots above\n",
    "\n",
    "##### 1) temp Vs Total Bikes on Rentals. and 2) atemp Vs Total Bikes on Rentals.\n",
    "It Shows More the Temperature Customer tends more to hire bike.\n",
    "\n",
    "##### 3) hum Vs Total Bikes on Rentals.\n",
    "more Humidity also makes customers to hire bikes more, but in still more humidity, customers avoid travelling.  \n",
    "\n",
    "##### 4) windspeed Vs Total Bikes on Rentals.\n",
    "Wind speed shows opposite trend, i.e. lower windspeed more trend to hire bike. Whereas higher windspeend lovers the hire rate.  \n",
    "\n",
    "#### From all above charts we can conclude Whether condition do affect bike hirring rate."
   ]
  },
  {
   "cell_type": "code",
   "execution_count": 14,
   "metadata": {},
   "outputs": [
    {
     "data": {
      "image/png": "[encoded data removed]",
      "text/plain": [
       "<Figure size 720x360 with 1 Axes>"
      ]
     },
     "metadata": {
      "needs_background": "light"
     },
     "output_type": "display_data"
    }
   ],
   "source": [
    "_=sns.distplot(bike_sharing['temp'])"
   ]
  },
  {
   "cell_type": "code",
   "execution_count": 15,
   "metadata": {},
   "outputs": [
    {
     "data": {
      "image/png": "[encoded data removed]",
      "text/plain": [
       "<Figure size 720x360 with 1 Axes>"
      ]
     },
     "metadata": {
      "needs_background": "light"
     },
     "output_type": "display_data"
    }
   ],
   "source": [
    "_=sns.distplot(bike_sharing['hum'])"
   ]
  },
  {
   "cell_type": "code",
   "execution_count": 16,
   "metadata": {},
   "outputs": [
    {
     "data": {
      "image/png": "[encoded data removed]",
      "text/plain": [
       "<Figure size 720x360 with 1 Axes>"
      ]
     },
     "metadata": {
      "needs_background": "light"
     },
     "output_type": "display_data"
    }
   ],
   "source": [
    "_=sns.distplot(bike_sharing['windspeed'])"
   ]
  },
  {
   "cell_type": "code",
   "execution_count": 17,
   "metadata": {},
   "outputs": [
    {
     "data": {
      "image/png": "[encoded data removed]",
      "text/plain": [
       "<Figure size 720x360 with 1 Axes>"
      ]
     },
     "metadata": {
      "needs_background": "light"
     },
     "output_type": "display_data"
    }
   ],
   "source": [
    "_=sns.distplot(bike_sharing['cnt'])\n",
    "# _=sns.distplot(bike_sharing['casual'])\n",
    "# _=sns.distplot(bike_sharing['registered'])\n"
   ]
  },
  {
   "cell_type": "markdown",
   "metadata": {},
   "source": [
    "### NOTE : All Above Continuous features looks in Normal Distribution"
   ]
  },
  {
   "cell_type": "markdown",
   "metadata": {},
   "source": [
    "# Below checking for Outliers"
   ]
  },
  {
   "cell_type": "code",
   "execution_count": 18,
   "metadata": {},
   "outputs": [
    {
     "data": {
      "image/png": "[encoded data removed]",
      "text/plain": [
       "<Figure size 1440x1440 with 8 Axes>"
      ]
     },
     "metadata": {
      "needs_background": "light"
     },
     "output_type": "display_data"
    }
   ],
   "source": [
    "plt.figure(figsize=(20,20))\n",
    "# plt.subplot(3,3,8)\n",
    "# sns.boxplot(x=\"holiday\", y=\"cnt\", data=bike_sharing)\n",
    "\n",
    "for cnt, col in enumerate(['season', 'actual_yr', 'mnth', 'holiday', 'weekday','workingday', 'weathersit', 'day']):\n",
    "    plt.subplot(3,3,cnt+1)\n",
    "    sns.boxplot(x=bike_sharing[col], y=bike_sharing.cnt) \n",
    "\n"
   ]
  },
  {
   "cell_type": "markdown",
   "metadata": {},
   "source": [
    "## There aren't much outliers in data"
   ]
  },
  {
   "cell_type": "code",
   "execution_count": 19,
   "metadata": {},
   "outputs": [
    {
     "name": "stdout",
     "output_type": "stream",
     "text": [
      "<class 'pandas.core.frame.DataFrame'>\n",
      "Int64Index: 730 entries, 1 to 730\n",
      "Data columns (total 18 columns):\n",
      "dteday        730 non-null datetime64[ns]\n",
      "season        730 non-null object\n",
      "yr            730 non-null int64\n",
      "mnth          730 non-null object\n",
      "holiday       730 non-null object\n",
      "weekday       730 non-null object\n",
      "workingday    730 non-null object\n",
      "weathersit    730 non-null object\n",
      "temp          730 non-null float64\n",
      "atemp         730 non-null float64\n",
      "hum           730 non-null float64\n",
      "windspeed     730 non-null float64\n",
      "casual        730 non-null int64\n",
      "registered    730 non-null int64\n",
      "cnt           730 non-null int64\n",
      "YearMonth     730 non-null int64\n",
      "actual_yr     730 non-null int64\n",
      "day           730 non-null int64\n",
      "dtypes: datetime64[ns](1), float64(4), int64(7), object(6)\n",
      "memory usage: 128.4+ KB\n"
     ]
    }
   ],
   "source": [
    "bike_sharing.info()"
   ]
  },
  {
   "cell_type": "code",
   "execution_count": 20,
   "metadata": {},
   "outputs": [
    {
     "data": {
      "text/plain": [
       "Index(['dteday', 'season', 'yr', 'mnth', 'holiday', 'weekday', 'workingday',\n",
       "       'weathersit', 'temp', 'atemp', 'hum', 'windspeed', 'casual',\n",
       "       'registered', 'cnt', 'YearMonth', 'actual_yr', 'day'],\n",
       "      dtype='object')"
      ]
     },
     "execution_count": 20,
     "metadata": {},
     "output_type": "execute_result"
    }
   ],
   "source": [
    "bike_sharing.columns"
   ]
  },
  {
   "cell_type": "code",
   "execution_count": 21,
   "metadata": {},
   "outputs": [
    {
     "data": {
      "text/html": [
       "<div>\n",
       "<style scoped>\n",
       "    .dataframe tbody tr th:only-of-type {\n",
       "        vertical-align: middle;\n",
       "    }\n",
       "\n",
       "    .dataframe tbody tr th {\n",
       "        vertical-align: top;\n",
       "    }\n",
       "\n",
       "    .dataframe thead th {\n",
       "        text-align: right;\n",
       "    }\n",
       "</style>\n",
       "<table border=\"1\" class=\"dataframe\">\n",
       "  <thead>\n",
       "    <tr style=\"text-align: right;\">\n",
       "      <th></th>\n",
       "      <th>temp</th>\n",
       "      <th>hum</th>\n",
       "      <th>windspeed</th>\n",
       "      <th>cnt</th>\n",
       "      <th>casual</th>\n",
       "      <th>registered</th>\n",
       "    </tr>\n",
       "    <tr>\n",
       "      <th>instant</th>\n",
       "      <th></th>\n",
       "      <th></th>\n",
       "      <th></th>\n",
       "      <th></th>\n",
       "      <th></th>\n",
       "      <th></th>\n",
       "    </tr>\n",
       "  </thead>\n",
       "  <tbody>\n",
       "    <tr>\n",
       "      <td>1</td>\n",
       "      <td>14.110847</td>\n",
       "      <td>80.5833</td>\n",
       "      <td>10.749882</td>\n",
       "      <td>985</td>\n",
       "      <td>331</td>\n",
       "      <td>654</td>\n",
       "    </tr>\n",
       "    <tr>\n",
       "      <td>2</td>\n",
       "      <td>14.902598</td>\n",
       "      <td>69.6087</td>\n",
       "      <td>16.652113</td>\n",
       "      <td>801</td>\n",
       "      <td>131</td>\n",
       "      <td>670</td>\n",
       "    </tr>\n",
       "    <tr>\n",
       "      <td>3</td>\n",
       "      <td>8.050924</td>\n",
       "      <td>43.7273</td>\n",
       "      <td>16.636703</td>\n",
       "      <td>1349</td>\n",
       "      <td>120</td>\n",
       "      <td>1229</td>\n",
       "    </tr>\n",
       "    <tr>\n",
       "      <td>4</td>\n",
       "      <td>8.200000</td>\n",
       "      <td>59.0435</td>\n",
       "      <td>10.739832</td>\n",
       "      <td>1562</td>\n",
       "      <td>108</td>\n",
       "      <td>1454</td>\n",
       "    </tr>\n",
       "    <tr>\n",
       "      <td>5</td>\n",
       "      <td>9.305237</td>\n",
       "      <td>43.6957</td>\n",
       "      <td>12.522300</td>\n",
       "      <td>1600</td>\n",
       "      <td>82</td>\n",
       "      <td>1518</td>\n",
       "    </tr>\n",
       "    <tr>\n",
       "      <td>...</td>\n",
       "      <td>...</td>\n",
       "      <td>...</td>\n",
       "      <td>...</td>\n",
       "      <td>...</td>\n",
       "      <td>...</td>\n",
       "      <td>...</td>\n",
       "    </tr>\n",
       "    <tr>\n",
       "      <td>726</td>\n",
       "      <td>10.420847</td>\n",
       "      <td>65.2917</td>\n",
       "      <td>23.458911</td>\n",
       "      <td>2114</td>\n",
       "      <td>247</td>\n",
       "      <td>1867</td>\n",
       "    </tr>\n",
       "    <tr>\n",
       "      <td>727</td>\n",
       "      <td>10.386653</td>\n",
       "      <td>59.0000</td>\n",
       "      <td>10.416557</td>\n",
       "      <td>3095</td>\n",
       "      <td>644</td>\n",
       "      <td>2451</td>\n",
       "    </tr>\n",
       "    <tr>\n",
       "      <td>728</td>\n",
       "      <td>10.386653</td>\n",
       "      <td>75.2917</td>\n",
       "      <td>8.333661</td>\n",
       "      <td>1341</td>\n",
       "      <td>159</td>\n",
       "      <td>1182</td>\n",
       "    </tr>\n",
       "    <tr>\n",
       "      <td>729</td>\n",
       "      <td>10.489153</td>\n",
       "      <td>48.3333</td>\n",
       "      <td>23.500518</td>\n",
       "      <td>1796</td>\n",
       "      <td>364</td>\n",
       "      <td>1432</td>\n",
       "    </tr>\n",
       "    <tr>\n",
       "      <td>730</td>\n",
       "      <td>8.849153</td>\n",
       "      <td>57.7500</td>\n",
       "      <td>10.374682</td>\n",
       "      <td>2729</td>\n",
       "      <td>439</td>\n",
       "      <td>2290</td>\n",
       "    </tr>\n",
       "  </tbody>\n",
       "</table>\n",
       "<p>730 rows × 6 columns</p>\n",
       "</div>"
      ],
      "text/plain": [
       "              temp      hum  windspeed   cnt  casual  registered\n",
       "instant                                                         \n",
       "1        14.110847  80.5833  10.749882   985     331         654\n",
       "2        14.902598  69.6087  16.652113   801     131         670\n",
       "3         8.050924  43.7273  16.636703  1349     120        1229\n",
       "4         8.200000  59.0435  10.739832  1562     108        1454\n",
       "5         9.305237  43.6957  12.522300  1600      82        1518\n",
       "...            ...      ...        ...   ...     ...         ...\n",
       "726      10.420847  65.2917  23.458911  2114     247        1867\n",
       "727      10.386653  59.0000  10.416557  3095     644        2451\n",
       "728      10.386653  75.2917   8.333661  1341     159        1182\n",
       "729      10.489153  48.3333  23.500518  1796     364        1432\n",
       "730       8.849153  57.7500  10.374682  2729     439        2290\n",
       "\n",
       "[730 rows x 6 columns]"
      ]
     },
     "execution_count": 21,
     "metadata": {},
     "output_type": "execute_result"
    }
   ],
   "source": [
    "bike_sharing_cont=bike_sharing[['temp', 'hum', 'windspeed', 'cnt','casual','registered']]\n",
    "bike_sharing_cont"
   ]
  },
  {
   "cell_type": "code",
   "execution_count": 22,
   "metadata": {},
   "outputs": [
    {
     "data": {
      "text/plain": [
       "temp          0.627044\n",
       "hum          -0.098543\n",
       "windspeed    -0.235132\n",
       "cnt           1.000000\n",
       "casual        0.672123\n",
       "registered    0.945411\n",
       "Name: cnt, dtype: float64"
      ]
     },
     "execution_count": 22,
     "metadata": {},
     "output_type": "execute_result"
    }
   ],
   "source": [
    "bike_sharing_cont.corr()['cnt']"
   ]
  },
  {
   "cell_type": "markdown",
   "metadata": {},
   "source": [
    "# Checking Correlation between continuous type features "
   ]
  },
  {
   "cell_type": "code",
   "execution_count": 23,
   "metadata": {},
   "outputs": [
    {
     "data": {
      "image/png": "[encoded data removed]",
      "text/plain": [
       "<Figure size 720x360 with 2 Axes>"
      ]
     },
     "metadata": {
      "needs_background": "light"
     },
     "output_type": "display_data"
    }
   ],
   "source": [
    "# plt.figure(figsize=(10,5))\n",
    "mask=np.array(bike_sharing_cont.corr())\n",
    "mask[np.tril_indices_from(mask)]=False\n",
    "sns.heatmap(bike_sharing_cont.corr(), mask=mask,annot=True, square=True)\n",
    "plt.show()"
   ]
  },
  {
   "cell_type": "markdown",
   "metadata": {},
   "source": [
    "## As Expected High Correlation between cnt, registered and casual,</br> as data says cnt = casul + registered"
   ]
  },
  {
   "cell_type": "code",
   "execution_count": 24,
   "metadata": {},
   "outputs": [
    {
     "data": {
      "text/html": [
       "<div>\n",
       "<style scoped>\n",
       "    .dataframe tbody tr th:only-of-type {\n",
       "        vertical-align: middle;\n",
       "    }\n",
       "\n",
       "    .dataframe tbody tr th {\n",
       "        vertical-align: top;\n",
       "    }\n",
       "\n",
       "    .dataframe thead th {\n",
       "        text-align: right;\n",
       "    }\n",
       "</style>\n",
       "<table border=\"1\" class=\"dataframe\">\n",
       "  <thead>\n",
       "    <tr style=\"text-align: right;\">\n",
       "      <th></th>\n",
       "      <th>temp</th>\n",
       "      <th>hum</th>\n",
       "      <th>windspeed</th>\n",
       "      <th>cnt</th>\n",
       "      <th>casual</th>\n",
       "      <th>registered</th>\n",
       "    </tr>\n",
       "  </thead>\n",
       "  <tbody>\n",
       "    <tr>\n",
       "      <td>count</td>\n",
       "      <td>730.000000</td>\n",
       "      <td>730.000000</td>\n",
       "      <td>730.000000</td>\n",
       "      <td>730.000000</td>\n",
       "      <td>730.000000</td>\n",
       "      <td>730.000000</td>\n",
       "    </tr>\n",
       "    <tr>\n",
       "      <td>mean</td>\n",
       "      <td>20.319259</td>\n",
       "      <td>62.765175</td>\n",
       "      <td>12.763620</td>\n",
       "      <td>4508.006849</td>\n",
       "      <td>849.249315</td>\n",
       "      <td>3658.757534</td>\n",
       "    </tr>\n",
       "    <tr>\n",
       "      <td>std</td>\n",
       "      <td>7.506729</td>\n",
       "      <td>14.237589</td>\n",
       "      <td>5.195841</td>\n",
       "      <td>1936.011647</td>\n",
       "      <td>686.479875</td>\n",
       "      <td>1559.758728</td>\n",
       "    </tr>\n",
       "    <tr>\n",
       "      <td>min</td>\n",
       "      <td>2.424346</td>\n",
       "      <td>0.000000</td>\n",
       "      <td>1.500244</td>\n",
       "      <td>22.000000</td>\n",
       "      <td>2.000000</td>\n",
       "      <td>20.000000</td>\n",
       "    </tr>\n",
       "    <tr>\n",
       "      <td>25%</td>\n",
       "      <td>13.811885</td>\n",
       "      <td>52.000000</td>\n",
       "      <td>9.041650</td>\n",
       "      <td>3169.750000</td>\n",
       "      <td>316.250000</td>\n",
       "      <td>2502.250000</td>\n",
       "    </tr>\n",
       "    <tr>\n",
       "      <td>50%</td>\n",
       "      <td>20.465826</td>\n",
       "      <td>62.625000</td>\n",
       "      <td>12.125325</td>\n",
       "      <td>4548.500000</td>\n",
       "      <td>717.000000</td>\n",
       "      <td>3664.500000</td>\n",
       "    </tr>\n",
       "    <tr>\n",
       "      <td>75%</td>\n",
       "      <td>26.880615</td>\n",
       "      <td>72.989575</td>\n",
       "      <td>15.625589</td>\n",
       "      <td>5966.000000</td>\n",
       "      <td>1096.500000</td>\n",
       "      <td>4783.250000</td>\n",
       "    </tr>\n",
       "    <tr>\n",
       "      <td>max</td>\n",
       "      <td>35.328347</td>\n",
       "      <td>97.250000</td>\n",
       "      <td>34.000021</td>\n",
       "      <td>8714.000000</td>\n",
       "      <td>3410.000000</td>\n",
       "      <td>6946.000000</td>\n",
       "    </tr>\n",
       "  </tbody>\n",
       "</table>\n",
       "</div>"
      ],
      "text/plain": [
       "             temp         hum   windspeed          cnt       casual  \\\n",
       "count  730.000000  730.000000  730.000000   730.000000   730.000000   \n",
       "mean    20.319259   62.765175   12.763620  4508.006849   849.249315   \n",
       "std      7.506729   14.237589    5.195841  1936.011647   686.479875   \n",
       "min      2.424346    0.000000    1.500244    22.000000     2.000000   \n",
       "25%     13.811885   52.000000    9.041650  3169.750000   316.250000   \n",
       "50%     20.465826   62.625000   12.125325  4548.500000   717.000000   \n",
       "75%     26.880615   72.989575   15.625589  5966.000000  1096.500000   \n",
       "max     35.328347   97.250000   34.000021  8714.000000  3410.000000   \n",
       "\n",
       "        registered  \n",
       "count   730.000000  \n",
       "mean   3658.757534  \n",
       "std    1559.758728  \n",
       "min      20.000000  \n",
       "25%    2502.250000  \n",
       "50%    3664.500000  \n",
       "75%    4783.250000  \n",
       "max    6946.000000  "
      ]
     },
     "execution_count": 24,
     "metadata": {},
     "output_type": "execute_result"
    }
   ],
   "source": [
    "bike_sharing_cont.describe()"
   ]
  },
  {
   "cell_type": "code",
   "execution_count": 25,
   "metadata": {},
   "outputs": [
    {
     "name": "stdout",
     "output_type": "stream",
     "text": [
      "<class 'pandas.core.frame.DataFrame'>\n",
      "Int64Index: 730 entries, 1 to 730\n",
      "Data columns (total 18 columns):\n",
      "dteday        730 non-null datetime64[ns]\n",
      "season        730 non-null object\n",
      "yr            730 non-null int64\n",
      "mnth          730 non-null object\n",
      "holiday       730 non-null object\n",
      "weekday       730 non-null object\n",
      "workingday    730 non-null object\n",
      "weathersit    730 non-null object\n",
      "temp          730 non-null float64\n",
      "atemp         730 non-null float64\n",
      "hum           730 non-null float64\n",
      "windspeed     730 non-null float64\n",
      "casual        730 non-null int64\n",
      "registered    730 non-null int64\n",
      "cnt           730 non-null int64\n",
      "YearMonth     730 non-null int64\n",
      "actual_yr     730 non-null int64\n",
      "day           730 non-null int64\n",
      "dtypes: datetime64[ns](1), float64(4), int64(7), object(6)\n",
      "memory usage: 128.4+ KB\n"
     ]
    }
   ],
   "source": [
    "bike_sharing.info()"
   ]
  },
  {
   "cell_type": "code",
   "execution_count": 26,
   "metadata": {
    "scrolled": true
   },
   "outputs": [
    {
     "data": {
      "text/plain": [
       "Index(['dteday', 'season', 'yr', 'mnth', 'holiday', 'weekday', 'workingday',\n",
       "       'weathersit', 'temp', 'atemp', 'hum', 'windspeed', 'casual',\n",
       "       'registered', 'cnt', 'YearMonth', 'actual_yr', 'day'],\n",
       "      dtype='object')"
      ]
     },
     "execution_count": 26,
     "metadata": {},
     "output_type": "execute_result"
    }
   ],
   "source": [
    "bike_sharing.columns"
   ]
  },
  {
   "cell_type": "markdown",
   "metadata": {},
   "source": [
    "# Converting, Categorical data to dummy columns."
   ]
  },
  {
   "cell_type": "code",
   "execution_count": 27,
   "metadata": {},
   "outputs": [
    {
     "data": {
      "text/html": [
       "<div>\n",
       "<style scoped>\n",
       "    .dataframe tbody tr th:only-of-type {\n",
       "        vertical-align: middle;\n",
       "    }\n",
       "\n",
       "    .dataframe tbody tr th {\n",
       "        vertical-align: top;\n",
       "    }\n",
       "\n",
       "    .dataframe thead th {\n",
       "        text-align: right;\n",
       "    }\n",
       "</style>\n",
       "<table border=\"1\" class=\"dataframe\">\n",
       "  <thead>\n",
       "    <tr style=\"text-align: right;\">\n",
       "      <th></th>\n",
       "      <th>season</th>\n",
       "      <th>mnth</th>\n",
       "      <th>holiday</th>\n",
       "      <th>weekday</th>\n",
       "      <th>workingday</th>\n",
       "      <th>weathersit</th>\n",
       "    </tr>\n",
       "    <tr>\n",
       "      <th>instant</th>\n",
       "      <th></th>\n",
       "      <th></th>\n",
       "      <th></th>\n",
       "      <th></th>\n",
       "      <th></th>\n",
       "      <th></th>\n",
       "    </tr>\n",
       "  </thead>\n",
       "  <tbody>\n",
       "    <tr>\n",
       "      <td>1</td>\n",
       "      <td>spring</td>\n",
       "      <td>Jan</td>\n",
       "      <td>No</td>\n",
       "      <td>Mon</td>\n",
       "      <td>No</td>\n",
       "      <td>cloudy</td>\n",
       "    </tr>\n",
       "    <tr>\n",
       "      <td>2</td>\n",
       "      <td>spring</td>\n",
       "      <td>Jan</td>\n",
       "      <td>No</td>\n",
       "      <td>Tue</td>\n",
       "      <td>No</td>\n",
       "      <td>cloudy</td>\n",
       "    </tr>\n",
       "    <tr>\n",
       "      <td>3</td>\n",
       "      <td>spring</td>\n",
       "      <td>Jan</td>\n",
       "      <td>No</td>\n",
       "      <td>Wed</td>\n",
       "      <td>Yes</td>\n",
       "      <td>clear</td>\n",
       "    </tr>\n",
       "    <tr>\n",
       "      <td>4</td>\n",
       "      <td>spring</td>\n",
       "      <td>Jan</td>\n",
       "      <td>No</td>\n",
       "      <td>Thu</td>\n",
       "      <td>Yes</td>\n",
       "      <td>clear</td>\n",
       "    </tr>\n",
       "    <tr>\n",
       "      <td>5</td>\n",
       "      <td>spring</td>\n",
       "      <td>Jan</td>\n",
       "      <td>No</td>\n",
       "      <td>Fri</td>\n",
       "      <td>Yes</td>\n",
       "      <td>clear</td>\n",
       "    </tr>\n",
       "    <tr>\n",
       "      <td>...</td>\n",
       "      <td>...</td>\n",
       "      <td>...</td>\n",
       "      <td>...</td>\n",
       "      <td>...</td>\n",
       "      <td>...</td>\n",
       "      <td>...</td>\n",
       "    </tr>\n",
       "    <tr>\n",
       "      <td>726</td>\n",
       "      <td>spring</td>\n",
       "      <td>Dec</td>\n",
       "      <td>No</td>\n",
       "      <td>Sat</td>\n",
       "      <td>Yes</td>\n",
       "      <td>cloudy</td>\n",
       "    </tr>\n",
       "    <tr>\n",
       "      <td>727</td>\n",
       "      <td>spring</td>\n",
       "      <td>Dec</td>\n",
       "      <td>No</td>\n",
       "      <td>Sun</td>\n",
       "      <td>Yes</td>\n",
       "      <td>cloudy</td>\n",
       "    </tr>\n",
       "    <tr>\n",
       "      <td>728</td>\n",
       "      <td>spring</td>\n",
       "      <td>Dec</td>\n",
       "      <td>No</td>\n",
       "      <td>Mon</td>\n",
       "      <td>No</td>\n",
       "      <td>cloudy</td>\n",
       "    </tr>\n",
       "    <tr>\n",
       "      <td>729</td>\n",
       "      <td>spring</td>\n",
       "      <td>Dec</td>\n",
       "      <td>No</td>\n",
       "      <td>Tue</td>\n",
       "      <td>No</td>\n",
       "      <td>clear</td>\n",
       "    </tr>\n",
       "    <tr>\n",
       "      <td>730</td>\n",
       "      <td>spring</td>\n",
       "      <td>Dec</td>\n",
       "      <td>No</td>\n",
       "      <td>Wed</td>\n",
       "      <td>Yes</td>\n",
       "      <td>cloudy</td>\n",
       "    </tr>\n",
       "  </tbody>\n",
       "</table>\n",
       "<p>730 rows × 6 columns</p>\n",
       "</div>"
      ],
      "text/plain": [
       "         season mnth holiday weekday workingday weathersit\n",
       "instant                                                   \n",
       "1        spring  Jan      No     Mon         No     cloudy\n",
       "2        spring  Jan      No     Tue         No     cloudy\n",
       "3        spring  Jan      No     Wed        Yes      clear\n",
       "4        spring  Jan      No     Thu        Yes      clear\n",
       "5        spring  Jan      No     Fri        Yes      clear\n",
       "...         ...  ...     ...     ...        ...        ...\n",
       "726      spring  Dec      No     Sat        Yes     cloudy\n",
       "727      spring  Dec      No     Sun        Yes     cloudy\n",
       "728      spring  Dec      No     Mon         No     cloudy\n",
       "729      spring  Dec      No     Tue         No      clear\n",
       "730      spring  Dec      No     Wed        Yes     cloudy\n",
       "\n",
       "[730 rows x 6 columns]"
      ]
     },
     "execution_count": 27,
     "metadata": {},
     "output_type": "execute_result"
    }
   ],
   "source": [
    "# bike_sharing_cate=bike_sharing[['season', 'mnth', 'holiday', 'weekday', 'workingday','weathersit']]\n",
    "bike_sharing_cate = bike_sharing.select_dtypes(include=\"object\")\n",
    "bike_sharing_cate"
   ]
  },
  {
   "cell_type": "code",
   "execution_count": 28,
   "metadata": {},
   "outputs": [
    {
     "data": {
      "text/html": [
       "<div>\n",
       "<style scoped>\n",
       "    .dataframe tbody tr th:only-of-type {\n",
       "        vertical-align: middle;\n",
       "    }\n",
       "\n",
       "    .dataframe tbody tr th {\n",
       "        vertical-align: top;\n",
       "    }\n",
       "\n",
       "    .dataframe thead th {\n",
       "        text-align: right;\n",
       "    }\n",
       "</style>\n",
       "<table border=\"1\" class=\"dataframe\">\n",
       "  <thead>\n",
       "    <tr style=\"text-align: right;\">\n",
       "      <th></th>\n",
       "      <th>season_spring</th>\n",
       "      <th>season_summer</th>\n",
       "      <th>season_winter</th>\n",
       "      <th>mnth_Aug</th>\n",
       "      <th>mnth_Dec</th>\n",
       "      <th>mnth_Feb</th>\n",
       "      <th>mnth_Jan</th>\n",
       "      <th>mnth_Jul</th>\n",
       "      <th>mnth_Jun</th>\n",
       "      <th>mnth_Mar</th>\n",
       "      <th>...</th>\n",
       "      <th>holiday_Yes</th>\n",
       "      <th>weekday_Mon</th>\n",
       "      <th>weekday_Sat</th>\n",
       "      <th>weekday_Sun</th>\n",
       "      <th>weekday_Thu</th>\n",
       "      <th>weekday_Tue</th>\n",
       "      <th>weekday_Wed</th>\n",
       "      <th>workingday_Yes</th>\n",
       "      <th>weathersit_cloudy</th>\n",
       "      <th>weathersit_light rain</th>\n",
       "    </tr>\n",
       "    <tr>\n",
       "      <th>instant</th>\n",
       "      <th></th>\n",
       "      <th></th>\n",
       "      <th></th>\n",
       "      <th></th>\n",
       "      <th></th>\n",
       "      <th></th>\n",
       "      <th></th>\n",
       "      <th></th>\n",
       "      <th></th>\n",
       "      <th></th>\n",
       "      <th></th>\n",
       "      <th></th>\n",
       "      <th></th>\n",
       "      <th></th>\n",
       "      <th></th>\n",
       "      <th></th>\n",
       "      <th></th>\n",
       "      <th></th>\n",
       "      <th></th>\n",
       "      <th></th>\n",
       "      <th></th>\n",
       "    </tr>\n",
       "  </thead>\n",
       "  <tbody>\n",
       "    <tr>\n",
       "      <td>1</td>\n",
       "      <td>1</td>\n",
       "      <td>0</td>\n",
       "      <td>0</td>\n",
       "      <td>0</td>\n",
       "      <td>0</td>\n",
       "      <td>0</td>\n",
       "      <td>1</td>\n",
       "      <td>0</td>\n",
       "      <td>0</td>\n",
       "      <td>0</td>\n",
       "      <td>...</td>\n",
       "      <td>0</td>\n",
       "      <td>1</td>\n",
       "      <td>0</td>\n",
       "      <td>0</td>\n",
       "      <td>0</td>\n",
       "      <td>0</td>\n",
       "      <td>0</td>\n",
       "      <td>0</td>\n",
       "      <td>1</td>\n",
       "      <td>0</td>\n",
       "    </tr>\n",
       "    <tr>\n",
       "      <td>2</td>\n",
       "      <td>1</td>\n",
       "      <td>0</td>\n",
       "      <td>0</td>\n",
       "      <td>0</td>\n",
       "      <td>0</td>\n",
       "      <td>0</td>\n",
       "      <td>1</td>\n",
       "      <td>0</td>\n",
       "      <td>0</td>\n",
       "      <td>0</td>\n",
       "      <td>...</td>\n",
       "      <td>0</td>\n",
       "      <td>0</td>\n",
       "      <td>0</td>\n",
       "      <td>0</td>\n",
       "      <td>0</td>\n",
       "      <td>1</td>\n",
       "      <td>0</td>\n",
       "      <td>0</td>\n",
       "      <td>1</td>\n",
       "      <td>0</td>\n",
       "    </tr>\n",
       "    <tr>\n",
       "      <td>3</td>\n",
       "      <td>1</td>\n",
       "      <td>0</td>\n",
       "      <td>0</td>\n",
       "      <td>0</td>\n",
       "      <td>0</td>\n",
       "      <td>0</td>\n",
       "      <td>1</td>\n",
       "      <td>0</td>\n",
       "      <td>0</td>\n",
       "      <td>0</td>\n",
       "      <td>...</td>\n",
       "      <td>0</td>\n",
       "      <td>0</td>\n",
       "      <td>0</td>\n",
       "      <td>0</td>\n",
       "      <td>0</td>\n",
       "      <td>0</td>\n",
       "      <td>1</td>\n",
       "      <td>1</td>\n",
       "      <td>0</td>\n",
       "      <td>0</td>\n",
       "    </tr>\n",
       "    <tr>\n",
       "      <td>4</td>\n",
       "      <td>1</td>\n",
       "      <td>0</td>\n",
       "      <td>0</td>\n",
       "      <td>0</td>\n",
       "      <td>0</td>\n",
       "      <td>0</td>\n",
       "      <td>1</td>\n",
       "      <td>0</td>\n",
       "      <td>0</td>\n",
       "      <td>0</td>\n",
       "      <td>...</td>\n",
       "      <td>0</td>\n",
       "      <td>0</td>\n",
       "      <td>0</td>\n",
       "      <td>0</td>\n",
       "      <td>1</td>\n",
       "      <td>0</td>\n",
       "      <td>0</td>\n",
       "      <td>1</td>\n",
       "      <td>0</td>\n",
       "      <td>0</td>\n",
       "    </tr>\n",
       "    <tr>\n",
       "      <td>5</td>\n",
       "      <td>1</td>\n",
       "      <td>0</td>\n",
       "      <td>0</td>\n",
       "      <td>0</td>\n",
       "      <td>0</td>\n",
       "      <td>0</td>\n",
       "      <td>1</td>\n",
       "      <td>0</td>\n",
       "      <td>0</td>\n",
       "      <td>0</td>\n",
       "      <td>...</td>\n",
       "      <td>0</td>\n",
       "      <td>0</td>\n",
       "      <td>0</td>\n",
       "      <td>0</td>\n",
       "      <td>0</td>\n",
       "      <td>0</td>\n",
       "      <td>0</td>\n",
       "      <td>1</td>\n",
       "      <td>0</td>\n",
       "      <td>0</td>\n",
       "    </tr>\n",
       "    <tr>\n",
       "      <td>...</td>\n",
       "      <td>...</td>\n",
       "      <td>...</td>\n",
       "      <td>...</td>\n",
       "      <td>...</td>\n",
       "      <td>...</td>\n",
       "      <td>...</td>\n",
       "      <td>...</td>\n",
       "      <td>...</td>\n",
       "      <td>...</td>\n",
       "      <td>...</td>\n",
       "      <td>...</td>\n",
       "      <td>...</td>\n",
       "      <td>...</td>\n",
       "      <td>...</td>\n",
       "      <td>...</td>\n",
       "      <td>...</td>\n",
       "      <td>...</td>\n",
       "      <td>...</td>\n",
       "      <td>...</td>\n",
       "      <td>...</td>\n",
       "      <td>...</td>\n",
       "    </tr>\n",
       "    <tr>\n",
       "      <td>726</td>\n",
       "      <td>1</td>\n",
       "      <td>0</td>\n",
       "      <td>0</td>\n",
       "      <td>0</td>\n",
       "      <td>1</td>\n",
       "      <td>0</td>\n",
       "      <td>0</td>\n",
       "      <td>0</td>\n",
       "      <td>0</td>\n",
       "      <td>0</td>\n",
       "      <td>...</td>\n",
       "      <td>0</td>\n",
       "      <td>0</td>\n",
       "      <td>1</td>\n",
       "      <td>0</td>\n",
       "      <td>0</td>\n",
       "      <td>0</td>\n",
       "      <td>0</td>\n",
       "      <td>1</td>\n",
       "      <td>1</td>\n",
       "      <td>0</td>\n",
       "    </tr>\n",
       "    <tr>\n",
       "      <td>727</td>\n",
       "      <td>1</td>\n",
       "      <td>0</td>\n",
       "      <td>0</td>\n",
       "      <td>0</td>\n",
       "      <td>1</td>\n",
       "      <td>0</td>\n",
       "      <td>0</td>\n",
       "      <td>0</td>\n",
       "      <td>0</td>\n",
       "      <td>0</td>\n",
       "      <td>...</td>\n",
       "      <td>0</td>\n",
       "      <td>0</td>\n",
       "      <td>0</td>\n",
       "      <td>1</td>\n",
       "      <td>0</td>\n",
       "      <td>0</td>\n",
       "      <td>0</td>\n",
       "      <td>1</td>\n",
       "      <td>1</td>\n",
       "      <td>0</td>\n",
       "    </tr>\n",
       "    <tr>\n",
       "      <td>728</td>\n",
       "      <td>1</td>\n",
       "      <td>0</td>\n",
       "      <td>0</td>\n",
       "      <td>0</td>\n",
       "      <td>1</td>\n",
       "      <td>0</td>\n",
       "      <td>0</td>\n",
       "      <td>0</td>\n",
       "      <td>0</td>\n",
       "      <td>0</td>\n",
       "      <td>...</td>\n",
       "      <td>0</td>\n",
       "      <td>1</td>\n",
       "      <td>0</td>\n",
       "      <td>0</td>\n",
       "      <td>0</td>\n",
       "      <td>0</td>\n",
       "      <td>0</td>\n",
       "      <td>0</td>\n",
       "      <td>1</td>\n",
       "      <td>0</td>\n",
       "    </tr>\n",
       "    <tr>\n",
       "      <td>729</td>\n",
       "      <td>1</td>\n",
       "      <td>0</td>\n",
       "      <td>0</td>\n",
       "      <td>0</td>\n",
       "      <td>1</td>\n",
       "      <td>0</td>\n",
       "      <td>0</td>\n",
       "      <td>0</td>\n",
       "      <td>0</td>\n",
       "      <td>0</td>\n",
       "      <td>...</td>\n",
       "      <td>0</td>\n",
       "      <td>0</td>\n",
       "      <td>0</td>\n",
       "      <td>0</td>\n",
       "      <td>0</td>\n",
       "      <td>1</td>\n",
       "      <td>0</td>\n",
       "      <td>0</td>\n",
       "      <td>0</td>\n",
       "      <td>0</td>\n",
       "    </tr>\n",
       "    <tr>\n",
       "      <td>730</td>\n",
       "      <td>1</td>\n",
       "      <td>0</td>\n",
       "      <td>0</td>\n",
       "      <td>0</td>\n",
       "      <td>1</td>\n",
       "      <td>0</td>\n",
       "      <td>0</td>\n",
       "      <td>0</td>\n",
       "      <td>0</td>\n",
       "      <td>0</td>\n",
       "      <td>...</td>\n",
       "      <td>0</td>\n",
       "      <td>0</td>\n",
       "      <td>0</td>\n",
       "      <td>0</td>\n",
       "      <td>0</td>\n",
       "      <td>0</td>\n",
       "      <td>1</td>\n",
       "      <td>1</td>\n",
       "      <td>1</td>\n",
       "      <td>0</td>\n",
       "    </tr>\n",
       "  </tbody>\n",
       "</table>\n",
       "<p>730 rows × 24 columns</p>\n",
       "</div>"
      ],
      "text/plain": [
       "         season_spring  season_summer  season_winter  mnth_Aug  mnth_Dec  \\\n",
       "instant                                                                    \n",
       "1                    1              0              0         0         0   \n",
       "2                    1              0              0         0         0   \n",
       "3                    1              0              0         0         0   \n",
       "4                    1              0              0         0         0   \n",
       "5                    1              0              0         0         0   \n",
       "...                ...            ...            ...       ...       ...   \n",
       "726                  1              0              0         0         1   \n",
       "727                  1              0              0         0         1   \n",
       "728                  1              0              0         0         1   \n",
       "729                  1              0              0         0         1   \n",
       "730                  1              0              0         0         1   \n",
       "\n",
       "         mnth_Feb  mnth_Jan  mnth_Jul  mnth_Jun  mnth_Mar  ...  holiday_Yes  \\\n",
       "instant                                                    ...                \n",
       "1               0         1         0         0         0  ...            0   \n",
       "2               0         1         0         0         0  ...            0   \n",
       "3               0         1         0         0         0  ...            0   \n",
       "4               0         1         0         0         0  ...            0   \n",
       "5               0         1         0         0         0  ...            0   \n",
       "...           ...       ...       ...       ...       ...  ...          ...   \n",
       "726             0         0         0         0         0  ...            0   \n",
       "727             0         0         0         0         0  ...            0   \n",
       "728             0         0         0         0         0  ...            0   \n",
       "729             0         0         0         0         0  ...            0   \n",
       "730             0         0         0         0         0  ...            0   \n",
       "\n",
       "         weekday_Mon  weekday_Sat  weekday_Sun  weekday_Thu  weekday_Tue  \\\n",
       "instant                                                                    \n",
       "1                  1            0            0            0            0   \n",
       "2                  0            0            0            0            1   \n",
       "3                  0            0            0            0            0   \n",
       "4                  0            0            0            1            0   \n",
       "5                  0            0            0            0            0   \n",
       "...              ...          ...          ...          ...          ...   \n",
       "726                0            1            0            0            0   \n",
       "727                0            0            1            0            0   \n",
       "728                1            0            0            0            0   \n",
       "729                0            0            0            0            1   \n",
       "730                0            0            0            0            0   \n",
       "\n",
       "         weekday_Wed  workingday_Yes  weathersit_cloudy  weathersit_light rain  \n",
       "instant                                                                         \n",
       "1                  0               0                  1                      0  \n",
       "2                  0               0                  1                      0  \n",
       "3                  1               1                  0                      0  \n",
       "4                  0               1                  0                      0  \n",
       "5                  0               1                  0                      0  \n",
       "...              ...             ...                ...                    ...  \n",
       "726                0               1                  1                      0  \n",
       "727                0               1                  1                      0  \n",
       "728                0               0                  1                      0  \n",
       "729                0               0                  0                      0  \n",
       "730                1               1                  1                      0  \n",
       "\n",
       "[730 rows x 24 columns]"
      ]
     },
     "execution_count": 28,
     "metadata": {},
     "output_type": "execute_result"
    }
   ],
   "source": [
    "df=pd.get_dummies(bike_sharing_cate, drop_first=True)\n",
    "df"
   ]
  },
  {
   "cell_type": "code",
   "execution_count": 29,
   "metadata": {},
   "outputs": [
    {
     "name": "stdout",
     "output_type": "stream",
     "text": [
      "<class 'pandas.core.frame.DataFrame'>\n",
      "Int64Index: 730 entries, 1 to 730\n",
      "Data columns (total 30 columns):\n",
      "season_spring            730 non-null uint8\n",
      "season_summer            730 non-null uint8\n",
      "season_winter            730 non-null uint8\n",
      "mnth_Aug                 730 non-null uint8\n",
      "mnth_Dec                 730 non-null uint8\n",
      "mnth_Feb                 730 non-null uint8\n",
      "mnth_Jan                 730 non-null uint8\n",
      "mnth_Jul                 730 non-null uint8\n",
      "mnth_Jun                 730 non-null uint8\n",
      "mnth_Mar                 730 non-null uint8\n",
      "mnth_May                 730 non-null uint8\n",
      "mnth_Nov                 730 non-null uint8\n",
      "mnth_Oct                 730 non-null uint8\n",
      "mnth_Sep                 730 non-null uint8\n",
      "holiday_Yes              730 non-null uint8\n",
      "weekday_Mon              730 non-null uint8\n",
      "weekday_Sat              730 non-null uint8\n",
      "weekday_Sun              730 non-null uint8\n",
      "weekday_Thu              730 non-null uint8\n",
      "weekday_Tue              730 non-null uint8\n",
      "weekday_Wed              730 non-null uint8\n",
      "workingday_Yes           730 non-null uint8\n",
      "weathersit_cloudy        730 non-null uint8\n",
      "weathersit_light rain    730 non-null uint8\n",
      "temp                     730 non-null float64\n",
      "hum                      730 non-null float64\n",
      "windspeed                730 non-null float64\n",
      "cnt                      730 non-null int64\n",
      "casual                   730 non-null int64\n",
      "registered               730 non-null int64\n",
      "dtypes: float64(3), int64(3), uint8(24)\n",
      "memory usage: 57.0 KB\n"
     ]
    }
   ],
   "source": [
    "df = pd.merge(df, bike_sharing_cont, on=\"instant\")\n",
    "df.info()"
   ]
  },
  {
   "cell_type": "code",
   "execution_count": 30,
   "metadata": {},
   "outputs": [
    {
     "data": {
      "text/plain": [
       "Index(['dteday', 'season', 'yr', 'mnth', 'holiday', 'weekday', 'workingday',\n",
       "       'weathersit', 'temp', 'atemp', 'hum', 'windspeed', 'casual',\n",
       "       'registered', 'cnt', 'YearMonth', 'actual_yr', 'day'],\n",
       "      dtype='object')"
      ]
     },
     "execution_count": 30,
     "metadata": {},
     "output_type": "execute_result"
    }
   ],
   "source": [
    "bike_sharing.columns"
   ]
  },
  {
   "cell_type": "code",
   "execution_count": 31,
   "metadata": {},
   "outputs": [
    {
     "name": "stdout",
     "output_type": "stream",
     "text": [
      "<class 'pandas.core.frame.DataFrame'>\n",
      "Int64Index: 730 entries, 1 to 730\n",
      "Data columns (total 33 columns):\n",
      "season_spring            730 non-null uint8\n",
      "season_summer            730 non-null uint8\n",
      "season_winter            730 non-null uint8\n",
      "mnth_Aug                 730 non-null uint8\n",
      "mnth_Dec                 730 non-null uint8\n",
      "mnth_Feb                 730 non-null uint8\n",
      "mnth_Jan                 730 non-null uint8\n",
      "mnth_Jul                 730 non-null uint8\n",
      "mnth_Jun                 730 non-null uint8\n",
      "mnth_Mar                 730 non-null uint8\n",
      "mnth_May                 730 non-null uint8\n",
      "mnth_Nov                 730 non-null uint8\n",
      "mnth_Oct                 730 non-null uint8\n",
      "mnth_Sep                 730 non-null uint8\n",
      "holiday_Yes              730 non-null uint8\n",
      "weekday_Mon              730 non-null uint8\n",
      "weekday_Sat              730 non-null uint8\n",
      "weekday_Sun              730 non-null uint8\n",
      "weekday_Thu              730 non-null uint8\n",
      "weekday_Tue              730 non-null uint8\n",
      "weekday_Wed              730 non-null uint8\n",
      "workingday_Yes           730 non-null uint8\n",
      "weathersit_cloudy        730 non-null uint8\n",
      "weathersit_light rain    730 non-null uint8\n",
      "temp                     730 non-null float64\n",
      "hum                      730 non-null float64\n",
      "windspeed                730 non-null float64\n",
      "cnt                      730 non-null int64\n",
      "casual                   730 non-null int64\n",
      "registered               730 non-null int64\n",
      "actual_yr                730 non-null int64\n",
      "day                      730 non-null int64\n",
      "YearMonth                730 non-null int64\n",
      "dtypes: float64(3), int64(6), uint8(24)\n",
      "memory usage: 74.1 KB\n"
     ]
    }
   ],
   "source": [
    "df = pd.merge(df, bike_sharing[['actual_yr', 'day', 'YearMonth']], on=\"instant\")\n",
    "df.info()"
   ]
  },
  {
   "cell_type": "markdown",
   "metadata": {},
   "source": [
    "# Dropping cnt, registered and casual from feature dataframe  \n",
    "### as cnt is target feature, and casual and registered are highly correlated with target feature "
   ]
  },
  {
   "cell_type": "code",
   "execution_count": 32,
   "metadata": {},
   "outputs": [],
   "source": [
    "y=df[['cnt']]\n",
    "x=df.drop(columns=['cnt', 'registered', 'casual'])"
   ]
  },
  {
   "cell_type": "code",
   "execution_count": 33,
   "metadata": {},
   "outputs": [],
   "source": [
    "from sklearn.model_selection import train_test_split\n",
    "from sklearn.preprocessing import MinMaxScaler"
   ]
  },
  {
   "cell_type": "markdown",
   "metadata": {},
   "source": [
    "# Split 70-30"
   ]
  },
  {
   "cell_type": "code",
   "execution_count": 34,
   "metadata": {},
   "outputs": [
    {
     "name": "stdout",
     "output_type": "stream",
     "text": [
      "x_train (511, 30)\n",
      "x_test (219, 30)\n",
      "y_train (511, 1)\n",
      "y_test (219, 1)\n"
     ]
    }
   ],
   "source": [
    "x_train,x_test,y_train,y_test=train_test_split(x,y,test_size=0.3,random_state=42,stratify=df[['weathersit_light rain','holiday_Yes']])\n",
    "# x_train,x_test,y_train,y_test=train_test_split(x,y,test_size=0.3,random_state=111)\n",
    "print(\"x_train\", x_train.shape)\n",
    "print(\"x_test\", x_test.shape)\n",
    "print(\"y_train\", y_train.shape)\n",
    "print(\"y_test\", y_test.shape)\n",
    "\n"
   ]
  },
  {
   "cell_type": "markdown",
   "metadata": {},
   "source": [
    "# Scaling with Min-Max Scaler "
   ]
  },
  {
   "cell_type": "code",
   "execution_count": 35,
   "metadata": {},
   "outputs": [
    {
     "data": {
      "text/plain": [
       "Index(['season_spring', 'season_summer', 'season_winter', 'mnth_Aug',\n",
       "       'mnth_Dec', 'mnth_Feb', 'mnth_Jan', 'mnth_Jul', 'mnth_Jun', 'mnth_Mar',\n",
       "       'mnth_May', 'mnth_Nov', 'mnth_Oct', 'mnth_Sep', 'holiday_Yes',\n",
       "       'weekday_Mon', 'weekday_Sat', 'weekday_Sun', 'weekday_Thu',\n",
       "       'weekday_Tue', 'weekday_Wed', 'workingday_Yes', 'weathersit_cloudy',\n",
       "       'weathersit_light rain', 'temp', 'hum', 'windspeed', 'actual_yr', 'day',\n",
       "       'YearMonth'],\n",
       "      dtype='object')"
      ]
     },
     "execution_count": 35,
     "metadata": {},
     "output_type": "execute_result"
    }
   ],
   "source": [
    "scaler=MinMaxScaler() \n",
    "x_train.columns"
   ]
  },
  {
   "cell_type": "code",
   "execution_count": 36,
   "metadata": {},
   "outputs": [
    {
     "name": "stderr",
     "output_type": "stream",
     "text": [
      "D:\\Anaconda3\\lib\\site-packages\\ipykernel_launcher.py:1: SettingWithCopyWarning: \n",
      "A value is trying to be set on a copy of a slice from a DataFrame.\n",
      "Try using .loc[row_indexer,col_indexer] = value instead\n",
      "\n",
      "See the caveats in the documentation: http://pandas.pydata.org/pandas-docs/stable/user_guide/indexing.html#returning-a-view-versus-a-copy\n",
      "  \"\"\"Entry point for launching an IPython kernel.\n",
      "D:\\Anaconda3\\lib\\site-packages\\pandas\\core\\indexing.py:494: SettingWithCopyWarning: \n",
      "A value is trying to be set on a copy of a slice from a DataFrame.\n",
      "Try using .loc[row_indexer,col_indexer] = value instead\n",
      "\n",
      "See the caveats in the documentation: http://pandas.pydata.org/pandas-docs/stable/user_guide/indexing.html#returning-a-view-versus-a-copy\n",
      "  self.obj[item] = s\n"
     ]
    }
   ],
   "source": [
    "x_train[['temp', 'hum', 'windspeed']]=scaler.fit_transform(x_train[['temp', 'hum', 'windspeed']])"
   ]
  },
  {
   "cell_type": "code",
   "execution_count": 37,
   "metadata": {},
   "outputs": [
    {
     "name": "stderr",
     "output_type": "stream",
     "text": [
      "D:\\Anaconda3\\lib\\site-packages\\ipykernel_launcher.py:1: SettingWithCopyWarning: \n",
      "A value is trying to be set on a copy of a slice from a DataFrame.\n",
      "Try using .loc[row_indexer,col_indexer] = value instead\n",
      "\n",
      "See the caveats in the documentation: http://pandas.pydata.org/pandas-docs/stable/user_guide/indexing.html#returning-a-view-versus-a-copy\n",
      "  \"\"\"Entry point for launching an IPython kernel.\n",
      "D:\\Anaconda3\\lib\\site-packages\\pandas\\core\\indexing.py:494: SettingWithCopyWarning: \n",
      "A value is trying to be set on a copy of a slice from a DataFrame.\n",
      "Try using .loc[row_indexer,col_indexer] = value instead\n",
      "\n",
      "See the caveats in the documentation: http://pandas.pydata.org/pandas-docs/stable/user_guide/indexing.html#returning-a-view-versus-a-copy\n",
      "  self.obj[item] = s\n"
     ]
    }
   ],
   "source": [
    "x_test[['temp', 'hum', 'windspeed']]=scaler.fit_transform(x_test[['temp', 'hum', 'windspeed']])"
   ]
  },
  {
   "cell_type": "markdown",
   "metadata": {},
   "source": [
    "# Case 1 : 70-30 data split\n",
    "## By Linear Reg"
   ]
  },
  {
   "cell_type": "code",
   "execution_count": 38,
   "metadata": {},
   "outputs": [],
   "source": [
    "from sklearn.linear_model import LinearRegression\n",
    "from sklearn.metrics import mean_squared_error"
   ]
  },
  {
   "cell_type": "code",
   "execution_count": 39,
   "metadata": {},
   "outputs": [],
   "source": [
    "def lr_stats(x_train,x_test,y_train,y_test):    \n",
    "    lgr = LinearRegression(fit_intercept=True)\n",
    "\n",
    "    base_pred = np.mean(y_test)\n",
    "    print(f\"base value {base_pred}\")\n",
    "    base_pred = np.repeat(base_pred, len(y_test ))\n",
    "    base_mse = mean_squared_error(y_test , base_pred)\n",
    "    base_rmse = np.sqrt(base_mse)\n",
    "\n",
    "    print (f\"WITH BASE mse :{base_mse} , rmse :{base_rmse}\")\n",
    "\n",
    "    model_lin1 = lgr.fit(x_train , y_train )\n",
    "    price_pred_lin1 = lgr.predict(x_test )\n",
    "    lin_mse1 = mean_squared_error(y_test , price_pred_lin1)\n",
    "    lin_rmse1 = np.sqrt(lin_mse1)\n",
    "    print (f\"mse :{lin_mse1} , rmse :{lin_rmse1}\")\n",
    "\n",
    "    r2train = model_lin1.score(x_train , y_train )\n",
    "    r2test = model_lin1.score(x_test , y_test )\n",
    "\n",
    "    print (f\"==Train r2 :{r2train} , test r2 :{r2test}\")"
   ]
  },
  {
   "cell_type": "code",
   "execution_count": 40,
   "metadata": {},
   "outputs": [
    {
     "name": "stdout",
     "output_type": "stream",
     "text": [
      "base value cnt    4715.849315\n",
      "dtype: float64\n",
      "WITH BASE mse :3605815.1234127725 , rmse :1898.8983973379861\n",
      "mse :815852.6321787053 , rmse :903.2456101076303\n",
      "==Train r2 :0.8561167302115807 , test r2 :0.7737397497499732\n"
     ]
    }
   ],
   "source": [
    "lr_stats(x_train,x_test,y_train,y_test)"
   ]
  },
  {
   "cell_type": "markdown",
   "metadata": {},
   "source": [
    "# Case 1 : 70-30 data split\n",
    "## By GradientBoostingRegressor"
   ]
  },
  {
   "cell_type": "code",
   "execution_count": 41,
   "metadata": {},
   "outputs": [],
   "source": [
    "from sklearn.ensemble import GradientBoostingRegressor"
   ]
  },
  {
   "cell_type": "code",
   "execution_count": 42,
   "metadata": {},
   "outputs": [],
   "source": [
    "def gbr_stat(x_tr,x_te,y_tr,y_te):\n",
    "    model=GradientBoostingRegressor()\n",
    "    model.fit(x_tr,y_tr)\n",
    "    print(f'==GBR Score : {model.score(x_te,y_te)}')"
   ]
  },
  {
   "cell_type": "code",
   "execution_count": 43,
   "metadata": {},
   "outputs": [
    {
     "name": "stderr",
     "output_type": "stream",
     "text": [
      "D:\\Anaconda3\\lib\\site-packages\\sklearn\\utils\\validation.py:72: DataConversionWarning: A column-vector y was passed when a 1d array was expected. Please change the shape of y to (n_samples, ), for example using ravel().\n",
      "  return f(**kwargs)\n"
     ]
    },
    {
     "name": "stdout",
     "output_type": "stream",
     "text": [
      "==GBR Score : 0.8016475359600022\n"
     ]
    }
   ],
   "source": [
    "gbr_stat(x_train,x_test,y_train,y_test)"
   ]
  },
  {
   "cell_type": "markdown",
   "metadata": {},
   "source": [
    "# Case 2 : Preserve Time - Series pattern\n",
    "## By Linear Reg"
   ]
  },
  {
   "cell_type": "code",
   "execution_count": 44,
   "metadata": {},
   "outputs": [
    {
     "data": {
      "text/plain": [
       "Index(['season_spring', 'season_summer', 'season_winter', 'mnth_Aug',\n",
       "       'mnth_Dec', 'mnth_Feb', 'mnth_Jan', 'mnth_Jul', 'mnth_Jun', 'mnth_Mar',\n",
       "       'mnth_May', 'mnth_Nov', 'mnth_Oct', 'mnth_Sep', 'holiday_Yes',\n",
       "       'weekday_Mon', 'weekday_Sat', 'weekday_Sun', 'weekday_Thu',\n",
       "       'weekday_Tue', 'weekday_Wed', 'workingday_Yes', 'weathersit_cloudy',\n",
       "       'weathersit_light rain', 'temp', 'hum', 'windspeed', 'cnt', 'casual',\n",
       "       'registered', 'actual_yr', 'day', 'YearMonth'],\n",
       "      dtype='object')"
      ]
     },
     "execution_count": 44,
     "metadata": {},
     "output_type": "execute_result"
    }
   ],
   "source": [
    "df.columns"
   ]
  },
  {
   "cell_type": "code",
   "execution_count": 45,
   "metadata": {},
   "outputs": [
    {
     "name": "stdout",
     "output_type": "stream",
     "text": [
      "X_train shape (577, 30)\n",
      "Y_train shape (577, 1)\n",
      "X_test shape (153, 30)\n",
      "Y_test shape (153, 1)\n"
     ]
    }
   ],
   "source": [
    "x_col_list = ['season_spring', 'season_summer', 'season_winter', 'mnth_Aug',\n",
    "       'mnth_Dec', 'mnth_Feb', 'mnth_Jan', 'mnth_Jul', 'mnth_Jun', 'mnth_Mar',\n",
    "       'mnth_May', 'mnth_Nov', 'mnth_Oct', 'mnth_Sep', 'holiday_Yes',\n",
    "       'weekday_Mon', 'weekday_Sat', 'weekday_Sun', 'weekday_Thu',\n",
    "       'weekday_Tue', 'weekday_Wed', 'workingday_Yes', 'weathersit_cloudy',\n",
    "       'weathersit_light rain', 'temp', 'hum', 'windspeed',\n",
    "       'actual_yr', 'day', 'YearMonth']\n",
    "# x_col_list=['actual_yr','day','mnth','season','holiday','weekday','workingday','weathersit','atemp','hum','windspeed']\n",
    "X_train = df[(df.YearMonth == 201801) | \n",
    "(df.YearMonth == 201802) |\n",
    "(df.YearMonth == 201803) |\n",
    "(df.YearMonth == 201804) |\n",
    "(df.YearMonth == 201805) |\n",
    "(df.YearMonth == 201806) |\n",
    "(df.YearMonth == 201807) |\n",
    "(df.YearMonth == 201808) |\n",
    "(df.YearMonth == 201809) |\n",
    "(df.YearMonth == 201810) |\n",
    "(df.YearMonth == 201811) |\n",
    "(df.YearMonth == 201812) |\n",
    "(df.YearMonth == 201901) |\n",
    "(df.YearMonth == 201902) |\n",
    "(df.YearMonth == 201903) |\n",
    "(df.YearMonth == 201904) |\n",
    "(df.YearMonth == 201905) |\n",
    "(df.YearMonth == 201906) |\n",
    "(df.YearMonth == 201907) ][x_col_list]\n",
    "Y_train = df[(df.YearMonth == 201801) | \n",
    "(df.YearMonth == 201802) |\n",
    "(df.YearMonth == 201803) |\n",
    "(df.YearMonth == 201804) |\n",
    "(df.YearMonth == 201805) |\n",
    "(df.YearMonth == 201806) |\n",
    "(df.YearMonth == 201807) |\n",
    "(df.YearMonth == 201808) |\n",
    "(df.YearMonth == 201809) |\n",
    "(df.YearMonth == 201810) |\n",
    "(df.YearMonth == 201811) |\n",
    "(df.YearMonth == 201812) |\n",
    "(df.YearMonth == 201901) |\n",
    "(df.YearMonth == 201902) |\n",
    "(df.YearMonth == 201903) |\n",
    "(df.YearMonth == 201904) |\n",
    "(df.YearMonth == 201905) |\n",
    "(df.YearMonth == 201906) |\n",
    "(df.YearMonth == 201907) ][['cnt']]\n",
    "\n",
    "X_test = df[(df.YearMonth == 201908) | \n",
    "(df.YearMonth == 201909) |\n",
    "(df.YearMonth == 201910) |\n",
    "(df.YearMonth == 201911) |\n",
    "(df.YearMonth == 201912) ][x_col_list]\n",
    "Y_test = df[(df.YearMonth == 201908) | \n",
    "(df.YearMonth == 201909) |\n",
    "(df.YearMonth == 201910) |\n",
    "(df.YearMonth == 201911) |\n",
    "(df.YearMonth == 201912) ][['cnt']]\n",
    "\n",
    "# print(X_train.YearMonth.sort_values().value_counts())\n",
    "# print(Y_train.YearMonth.sort_values().value_counts())\n",
    "# print(X_test.YearMonth.sort_values().value_counts())\n",
    "# print(X_test.YearMonth.sort_values().value_counts())\n",
    "\n",
    "print(f'X_train shape {X_train.shape}')\n",
    "print(f'Y_train shape {Y_train.shape}')\n",
    "print(f'X_test shape {X_test.shape}')\n",
    "print(f'Y_test shape {Y_test.shape}')"
   ]
  },
  {
   "cell_type": "code",
   "execution_count": 46,
   "metadata": {},
   "outputs": [
    {
     "name": "stdout",
     "output_type": "stream",
     "text": [
      "base value cnt    5936.562092\n",
      "dtype: float64\n",
      "WITH BASE mse :3431154.7428766717 , rmse :1852.337642784563\n",
      "mse :1200761.43843917 , rmse :1095.7926074030477\n",
      "==Train r2 :0.8538181313855657 , test r2 :0.6500415957828662\n"
     ]
    }
   ],
   "source": [
    "lr_stats(X_train ,X_test,Y_train ,Y_test )"
   ]
  },
  {
   "cell_type": "markdown",
   "metadata": {},
   "source": [
    "# Case 2 : Preserve Time - Series pattern\n",
    "## By GradientBoostingRegressor"
   ]
  },
  {
   "cell_type": "code",
   "execution_count": 47,
   "metadata": {},
   "outputs": [
    {
     "name": "stdout",
     "output_type": "stream",
     "text": [
      "==GBR Score : 0.70787669967823\n"
     ]
    },
    {
     "name": "stderr",
     "output_type": "stream",
     "text": [
      "D:\\Anaconda3\\lib\\site-packages\\sklearn\\utils\\validation.py:72: DataConversionWarning: A column-vector y was passed when a 1d array was expected. Please change the shape of y to (n_samples, ), for example using ravel().\n",
      "  return f(**kwargs)\n"
     ]
    }
   ],
   "source": [
    "gbr_stat(X_train ,X_test,Y_train ,Y_test )"
   ]
  },
  {
   "cell_type": "code",
   "execution_count": null,
   "metadata": {},
   "outputs": [],
   "source": []
  },
  {
   "cell_type": "code",
   "execution_count": null,
   "metadata": {},
   "outputs": [],
   "source": []
  },
  {
   "cell_type": "code",
   "execution_count": null,
   "metadata": {},
   "outputs": [],
   "source": []
  },
  {
   "cell_type": "code",
   "execution_count": null,
   "metadata": {},
   "outputs": [],
   "source": []
  },
  {
   "cell_type": "code",
   "execution_count": 48,
   "metadata": {},
   "outputs": [
    {
     "data": {
      "text/plain": [
       "Index(['season_spring', 'season_summer', 'season_winter', 'mnth_Aug',\n",
       "       'mnth_Dec', 'mnth_Feb', 'mnth_Jan', 'mnth_Jul', 'mnth_Jun', 'mnth_Mar',\n",
       "       'mnth_May', 'mnth_Nov', 'mnth_Oct', 'mnth_Sep', 'holiday_Yes',\n",
       "       'weekday_Mon', 'weekday_Sat', 'weekday_Sun', 'weekday_Thu',\n",
       "       'weekday_Tue', 'weekday_Wed', 'workingday_Yes', 'weathersit_cloudy',\n",
       "       'weathersit_light rain', 'temp', 'hum', 'windspeed', 'actual_yr', 'day',\n",
       "       'YearMonth'],\n",
       "      dtype='object')"
      ]
     },
     "execution_count": 48,
     "metadata": {},
     "output_type": "execute_result"
    }
   ],
   "source": [
    "x_train.columns"
   ]
  },
  {
   "cell_type": "markdown",
   "metadata": {},
   "source": [
    "# Using Stats Model and VIF for Feture engineering"
   ]
  },
  {
   "cell_type": "code",
   "execution_count": 49,
   "metadata": {},
   "outputs": [],
   "source": [
    "import statsmodels.api as sm\n",
    "from sklearn.feature_selection import RFE\n",
    "from statsmodels.stats.outliers_influence import variance_inflation_factor"
   ]
  },
  {
   "cell_type": "code",
   "execution_count": 50,
   "metadata": {},
   "outputs": [],
   "source": [
    "def modal_Performance(x_tr,x_te,y_tr,y_te,cols):\n",
    "    print('***Without Removing any Column***')\n",
    "    lr_stats(x_tr ,x_te,y_tr ,y_te )\n",
    "    gbr_stat(x_tr ,x_te,y_tr ,y_te )\n",
    "    x_tr_rfe=x_tr[cols]\n",
    "    x_te_rfe=x_te[cols]\n",
    "    print()\n",
    "    print('***After Removing Column with high P-Value or VIF***')\n",
    "    lr_stats(x_tr_rfe ,x_te_rfe,y_tr ,y_te )\n",
    "    gbr_stat(x_tr_rfe ,x_te_rfe,y_tr ,y_te )"
   ]
  },
  {
   "cell_type": "code",
   "execution_count": 51,
   "metadata": {},
   "outputs": [],
   "source": [
    "def df_stats(x_train,y_train,cols):\n",
    "    x_train_rfe=x_train[cols]\n",
    "    x_train_rfe=sm.add_constant(x_train_rfe)\n",
    "    lm=sm.OLS(y_train,x_train_rfe).fit()\n",
    "    print(lm.summary())\n"
   ]
  },
  {
   "cell_type": "code",
   "execution_count": 52,
   "metadata": {},
   "outputs": [],
   "source": [
    "def vif_stats(x_train, cols):    \n",
    "    a=x_train[cols]\n",
    "    vif=pd.DataFrame()\n",
    "    vif[\"Features\"]=a.columns\n",
    "    vif[\"VIF\"]=[ variance_inflation_factor(a.values,i) for i in range(a.shape[1])]\n",
    "    vif[\"VIF\"]= round(vif[\"VIF\"],2)\n",
    "    print(vif.sort_values(by = \"VIF\",ascending=False))"
   ]
  },
  {
   "cell_type": "code",
   "execution_count": 53,
   "metadata": {},
   "outputs": [
    {
     "name": "stderr",
     "output_type": "stream",
     "text": [
      "D:\\Anaconda3\\lib\\site-packages\\numpy\\core\\fromnumeric.py:2389: FutureWarning: Method .ptp is deprecated and will be removed in a future version. Use numpy.ptp instead.\n",
      "  return ptp(axis=axis, out=out, **kwargs)\n",
      "D:\\Anaconda3\\lib\\site-packages\\statsmodels\\stats\\outliers_influence.py:185: RuntimeWarning: divide by zero encountered in double_scalars\n",
      "  vif = 1. / (1. - r_squared_i)\n",
      "D:\\Anaconda3\\lib\\site-packages\\sklearn\\utils\\validation.py:72: DataConversionWarning: A column-vector y was passed when a 1d array was expected. Please change the shape of y to (n_samples, ), for example using ravel().\n",
      "  return f(**kwargs)\n"
     ]
    },
    {
     "name": "stdout",
     "output_type": "stream",
     "text": [
      "                            OLS Regression Results                            \n",
      "==============================================================================\n",
      "Dep. Variable:                    cnt   R-squared:                       0.856\n",
      "Model:                            OLS   Adj. R-squared:                  0.848\n",
      "Method:                 Least Squares   F-statistic:                     102.4\n",
      "Date:                Mon, 26 Apr 2021   Prob (F-statistic):          3.47e-183\n",
      "Time:                        00:57:25   Log-Likelihood:                -4099.0\n",
      "No. Observations:                 511   AIC:                             8256.\n",
      "Df Residuals:                     482   BIC:                             8379.\n",
      "Df Model:                          28                                         \n",
      "Covariance Type:            nonrobust                                         \n",
      "=========================================================================================\n",
      "                            coef    std err          t      P>|t|      [0.025      0.975]\n",
      "-----------------------------------------------------------------------------------------\n",
      "const                 -3.338e+06   1.12e+05    -29.685      0.000   -3.56e+06   -3.12e+06\n",
      "season_spring          -836.5506    253.282     -3.303      0.001   -1334.224    -338.877\n",
      "season_winter           801.0039    233.736      3.427      0.001     341.736    1260.271\n",
      "holiday_Yes           -8.351e+05   2.81e+04    -29.709      0.000    -8.9e+05    -7.8e+05\n",
      "weathersit_light rain -1673.2653    229.256     -7.299      0.000   -2123.730   -1222.800\n",
      "hum                   -1408.6743    330.249     -4.265      0.000   -2057.580    -759.769\n",
      "windspeed             -1205.1891    193.876     -6.216      0.000   -1586.137    -824.242\n",
      "weekday_Sat              14.7098    125.845      0.117      0.907    -232.562     261.982\n",
      "weekday_Sun              69.6019    128.462      0.542      0.588    -182.812     322.016\n",
      "weekday_Thu             -88.7892    126.870     -0.700      0.484    -338.076     160.497\n",
      "weekday_Wed            -166.7145    130.514     -1.277      0.202    -423.161      89.732\n",
      "day                      -5.8768      3.946     -1.489      0.137     -13.630       1.877\n",
      "mnth_Sep               6799.0364    342.472     19.853      0.000    6126.114    7471.959\n",
      "mnth_Mar              -1262.4887    216.363     -5.835      0.000   -1687.619    -837.358\n",
      "season_summer             6.3201    223.667      0.028      0.977    -433.163     445.804\n",
      "mnth_Feb              -2793.7466    298.676     -9.354      0.000   -3380.614   -2206.880\n",
      "mnth_Jan              -4290.8098    324.062    -13.241      0.000   -4927.558   -3654.061\n",
      "mnth_May               1479.4168    189.027      7.826      0.000    1107.998    1850.836\n",
      "actual_yr              1.308e+05   4404.324     29.699      0.000    1.22e+05    1.39e+05\n",
      "mnth_Oct               7659.3933    390.505     19.614      0.000    6892.091    8426.696\n",
      "weekday_Mon           -8.342e+05   2.81e+04    -29.675      0.000   -8.89e+05   -7.79e+05\n",
      "weekday_Tue           -8.345e+05   2.81e+04    -29.682      0.000    -8.9e+05   -7.79e+05\n",
      "workingday_Yes        -8.342e+05   2.81e+04    -29.673      0.000   -8.89e+05   -7.79e+05\n",
      "weathersit_cloudy      -418.6198     91.813     -4.560      0.000    -599.022    -238.218\n",
      "mnth_Nov               8369.9501    417.051     20.069      0.000    7550.487    9189.413\n",
      "mnth_Dec               9583.2095    430.012     22.286      0.000    8738.279    1.04e+04\n",
      "mnth_Jul               3221.1479    325.600      9.893      0.000    2581.377    3860.919\n",
      "mnth_Aug               4862.7675    343.282     14.166      0.000    4188.254    5537.281\n",
      "mnth_Jun               2494.9204    230.945     10.803      0.000    2041.137    2948.704\n",
      "YearMonth             -1287.3356     43.346    -29.699      0.000   -1372.506   -1202.165\n",
      "temp                   3655.9921    363.042     10.070      0.000    2942.652    4369.332\n",
      "==============================================================================\n",
      "Omnibus:                       77.000   Durbin-Watson:                   2.067\n",
      "Prob(Omnibus):                  0.000   Jarque-Bera (JB):              207.404\n",
      "Skew:                          -0.743   Prob(JB):                     9.18e-46\n",
      "Kurtosis:                       5.744   Cond. No.                     1.00e+16\n",
      "==============================================================================\n",
      "\n",
      "Warnings:\n",
      "[1] Standard Errors assume that the covariance matrix of the errors is correctly specified.\n",
      "[2] The smallest eigenvalue is 2.08e-19. This might indicate that there are\n",
      "strong multicollinearity problems or that the design matrix is singular.\n",
      "\n",
      "\n",
      "                 Features    VIF\n",
      "15               mnth_Jan    inf\n",
      "21         workingday_Yes    inf\n",
      "18               mnth_Oct    inf\n",
      "14               mnth_Feb    inf\n",
      "19            weekday_Mon    inf\n",
      "12               mnth_Mar    inf\n",
      "11               mnth_Sep    inf\n",
      "20            weekday_Tue    inf\n",
      "23               mnth_Nov    inf\n",
      "17              actual_yr    inf\n",
      "24               mnth_Dec    inf\n",
      "25               mnth_Jul    inf\n",
      "26               mnth_Aug    inf\n",
      "27               mnth_Jun    inf\n",
      "28              YearMonth    inf\n",
      "2             holiday_Yes    inf\n",
      "16               mnth_May    inf\n",
      "0           season_spring  10.74\n",
      "1           season_winter   9.29\n",
      "13          season_summer   8.25\n",
      "29                   temp   6.82\n",
      "4                     hum   2.16\n",
      "9             weekday_Wed   1.83\n",
      "6             weekday_Sat   1.82\n",
      "7             weekday_Sun   1.81\n",
      "8             weekday_Thu   1.79\n",
      "22      weathersit_cloudy   1.69\n",
      "3   weathersit_light rain   1.33\n",
      "5               windspeed   1.22\n",
      "10                    day   1.07\n",
      "\n",
      "\n",
      "***Without Removing any Column***\n",
      "base value cnt    4715.849315\n",
      "dtype: float64\n",
      "WITH BASE mse :3605815.1234127725 , rmse :1898.8983973379861\n",
      "mse :815852.6321787053 , rmse :903.2456101076303\n",
      "==Train r2 :0.8561167302115807 , test r2 :0.7737397497499732\n",
      "==GBR Score : 0.8021428279431331\n",
      "\n",
      "***After Removing Column with high P-Value or VIF***\n",
      "base value cnt    4715.849315\n",
      "dtype: float64\n",
      "WITH BASE mse :3605815.1234127725 , rmse :1898.8983973379861\n",
      "mse :815852.6321786513 , rmse :903.2456101076004\n",
      "==Train r2 :0.8561167302115814 , test r2 :0.7737397497499882\n",
      "==GBR Score : 0.8021215741506309\n"
     ]
    },
    {
     "name": "stderr",
     "output_type": "stream",
     "text": [
      "D:\\Anaconda3\\lib\\site-packages\\sklearn\\utils\\validation.py:72: DataConversionWarning: A column-vector y was passed when a 1d array was expected. Please change the shape of y to (n_samples, ), for example using ravel().\n",
      "  return f(**kwargs)\n"
     ]
    }
   ],
   "source": [
    "dropped_cols=[]\n",
    "cols=['season_spring', 'season_winter', 'holiday_Yes','weathersit_light rain', 'hum', 'windspeed',\n",
    "      'weekday_Sat', 'weekday_Sun', 'weekday_Thu', 'weekday_Wed', 'day', 'mnth_Sep', 'mnth_Mar','season_summer',\n",
    "      'mnth_Feb', 'mnth_Jan', 'mnth_May', 'actual_yr', 'mnth_Oct', 'weekday_Mon','weekday_Tue', 'workingday_Yes',\n",
    "      'weathersit_cloudy','mnth_Nov',  'mnth_Dec', 'mnth_Jul', 'mnth_Aug','mnth_Jun','YearMonth', 'temp']\n",
    "# x_train_rfe = x_train[cols]\n",
    "df_stats(x_train, y_train,cols)\n",
    "print()\n",
    "print()\n",
    "vif_stats(x_train, cols)\n",
    "print()\n",
    "print()\n",
    "modal_Performance(x_train,x_test,y_train,y_test,cols)"
   ]
  },
  {
   "cell_type": "code",
   "execution_count": 54,
   "metadata": {},
   "outputs": [
    {
     "name": "stderr",
     "output_type": "stream",
     "text": [
      "D:\\Anaconda3\\lib\\site-packages\\numpy\\core\\fromnumeric.py:2389: FutureWarning: Method .ptp is deprecated and will be removed in a future version. Use numpy.ptp instead.\n",
      "  return ptp(axis=axis, out=out, **kwargs)\n",
      "D:\\Anaconda3\\lib\\site-packages\\statsmodels\\stats\\outliers_influence.py:185: RuntimeWarning: divide by zero encountered in double_scalars\n",
      "  vif = 1. / (1. - r_squared_i)\n"
     ]
    },
    {
     "name": "stdout",
     "output_type": "stream",
     "text": [
      "                            OLS Regression Results                            \n",
      "==============================================================================\n",
      "Dep. Variable:                    cnt   R-squared:                       0.856\n",
      "Model:                            OLS   Adj. R-squared:                  0.848\n",
      "Method:                 Least Squares   F-statistic:                     106.4\n",
      "Date:                Mon, 26 Apr 2021   Prob (F-statistic):          3.33e-184\n",
      "Time:                        00:57:25   Log-Likelihood:                -4099.0\n",
      "No. Observations:                 511   AIC:                             8254.\n",
      "Df Residuals:                     483   BIC:                             8373.\n",
      "Df Model:                          27                                         \n",
      "Covariance Type:            nonrobust                                         \n",
      "=========================================================================================\n",
      "                            coef    std err          t      P>|t|      [0.025      0.975]\n",
      "-----------------------------------------------------------------------------------------\n",
      "const                 -3.338e+06   1.12e+05    -29.752      0.000   -3.56e+06   -3.12e+06\n",
      "season_spring          -841.0470    196.851     -4.272      0.000   -1227.838    -454.256\n",
      "season_winter           798.4067    214.682      3.719      0.000     376.580    1220.233\n",
      "holiday_Yes           -8.352e+05    2.8e+04    -29.776      0.000    -8.9e+05    -7.8e+05\n",
      "weathersit_light rain -1673.4707    228.904     -7.311      0.000   -2123.241   -1223.701\n",
      "hum                   -1408.2904    329.628     -4.272      0.000   -2055.972    -760.609\n",
      "windspeed             -1204.9063    193.418     -6.230      0.000   -1584.950    -824.862\n",
      "weekday_Sat              14.6698    125.707      0.117      0.907    -232.329     261.669\n",
      "weekday_Sun              69.6057    128.329      0.542      0.588    -182.546     321.757\n",
      "weekday_Thu             -88.7747    126.738     -0.700      0.484    -337.800     160.251\n",
      "weekday_Wed            -166.6146    130.331     -1.278      0.202    -422.701      89.471\n",
      "day                      -5.8786      3.941     -1.492      0.136     -13.623       1.866\n",
      "mnth_Sep               6794.0384    292.955     23.191      0.000    6218.416    7369.661\n",
      "mnth_Mar              -1263.8426    210.772     -5.996      0.000   -1677.987    -849.699\n",
      "mnth_Feb              -2796.0364    287.175     -9.736      0.000   -3360.304   -2231.769\n",
      "mnth_Jan              -4293.3074    311.452    -13.785      0.000   -4905.276   -3681.339\n",
      "mnth_May               1479.7478    188.468      7.851      0.000    1109.429    1850.067\n",
      "actual_yr              1.308e+05   4392.193     29.783      0.000    1.22e+05    1.39e+05\n",
      "mnth_Oct               7656.1411    372.773     20.538      0.000    6923.684    8388.598\n",
      "weekday_Mon           -8.343e+05    2.8e+04    -29.742      0.000   -8.89e+05   -7.79e+05\n",
      "weekday_Tue           -8.345e+05   2.81e+04    -29.748      0.000    -8.9e+05   -7.79e+05\n",
      "workingday_Yes        -8.343e+05   2.81e+04    -29.740      0.000   -8.89e+05   -7.79e+05\n",
      "weathersit_cloudy      -418.6589     91.707     -4.565      0.000    -598.853    -238.465\n",
      "mnth_Nov               8366.5638    399.049     20.966      0.000    7582.478    9150.650\n",
      "mnth_Dec               9580.5073    418.811     22.876      0.000    8757.591    1.04e+04\n",
      "mnth_Jul               3215.6405    260.549     12.342      0.000    2703.692    3727.589\n",
      "mnth_Aug               4857.2322    281.609     17.248      0.000    4303.902    5410.563\n",
      "mnth_Jun               2493.4747    224.974     11.083      0.000    2051.426    2935.524\n",
      "YearMonth             -1287.4076     43.226    -29.783      0.000   -1372.342   -1202.473\n",
      "temp                   3654.4917    358.766     10.186      0.000    2949.556    4359.427\n",
      "==============================================================================\n",
      "Omnibus:                       77.028   Durbin-Watson:                   2.067\n",
      "Prob(Omnibus):                  0.000   Jarque-Bera (JB):              207.655\n",
      "Skew:                          -0.743   Prob(JB):                     8.10e-46\n",
      "Kurtosis:                       5.746   Cond. No.                     1.00e+16\n",
      "==============================================================================\n",
      "\n",
      "Warnings:\n",
      "[1] Standard Errors assume that the covariance matrix of the errors is correctly specified.\n",
      "[2] The smallest eigenvalue is 2.08e-19. This might indicate that there are\n",
      "strong multicollinearity problems or that the design matrix is singular.\n",
      "\n",
      "\n",
      "                 Features   VIF\n",
      "14               mnth_Jan   inf\n",
      "18            weekday_Mon   inf\n",
      "16              actual_yr   inf\n",
      "15               mnth_May   inf\n",
      "13               mnth_Feb   inf\n",
      "12               mnth_Mar   inf\n",
      "11               mnth_Sep   inf\n",
      "19            weekday_Tue   inf\n",
      "20         workingday_Yes   inf\n",
      "22               mnth_Nov   inf\n",
      "23               mnth_Dec   inf\n",
      "24               mnth_Jul   inf\n",
      "25               mnth_Aug   inf\n",
      "26               mnth_Jun   inf\n",
      "27              YearMonth   inf\n",
      "2             holiday_Yes   inf\n",
      "17               mnth_Oct   inf\n",
      "1           season_winter  7.85\n",
      "28                   temp  6.67\n",
      "0           season_spring  6.50\n",
      "4                     hum  2.15\n",
      "9             weekday_Wed  1.83\n",
      "6             weekday_Sat  1.82\n",
      "7             weekday_Sun  1.81\n",
      "8             weekday_Thu  1.79\n",
      "21      weathersit_cloudy  1.69\n",
      "3   weathersit_light rain  1.33\n",
      "5               windspeed  1.22\n",
      "10                    day  1.07\n",
      "\n",
      "\n",
      "***Without Removing any Column***\n",
      "base value cnt    4715.849315\n",
      "dtype: float64\n",
      "WITH BASE mse :3605815.1234127725 , rmse :1898.8983973379861\n",
      "mse :815852.6321787053 , rmse :903.2456101076303\n",
      "==Train r2 :0.8561167302115807 , test r2 :0.7737397497499732\n"
     ]
    },
    {
     "name": "stderr",
     "output_type": "stream",
     "text": [
      "D:\\Anaconda3\\lib\\site-packages\\sklearn\\utils\\validation.py:72: DataConversionWarning: A column-vector y was passed when a 1d array was expected. Please change the shape of y to (n_samples, ), for example using ravel().\n",
      "  return f(**kwargs)\n"
     ]
    },
    {
     "name": "stdout",
     "output_type": "stream",
     "text": [
      "==GBR Score : 0.8015208727823447\n",
      "\n",
      "***After Removing Column with high P-Value or VIF***\n",
      "base value cnt    4715.849315\n",
      "dtype: float64\n",
      "WITH BASE mse :3605815.1234127725 , rmse :1898.8983973379861\n",
      "mse :815837.8666241771 , rmse :903.2374364607443\n",
      "==Train r2 :0.8561164918647521 , test r2 :0.7737438446783106\n",
      "==GBR Score : 0.7997841673582994\n"
     ]
    },
    {
     "name": "stderr",
     "output_type": "stream",
     "text": [
      "D:\\Anaconda3\\lib\\site-packages\\sklearn\\utils\\validation.py:72: DataConversionWarning: A column-vector y was passed when a 1d array was expected. Please change the shape of y to (n_samples, ), for example using ravel().\n",
      "  return f(**kwargs)\n"
     ]
    }
   ],
   "source": [
    "dropped_cols=['season_summer']\n",
    "cols=['season_spring', 'season_winter', 'holiday_Yes','weathersit_light rain', 'hum', 'windspeed',\n",
    "      'weekday_Sat', 'weekday_Sun', 'weekday_Thu', 'weekday_Wed', 'day', 'mnth_Sep', 'mnth_Mar',\n",
    "      'mnth_Feb', 'mnth_Jan', 'mnth_May', 'actual_yr', 'mnth_Oct', 'weekday_Mon','weekday_Tue', 'workingday_Yes',\n",
    "      'weathersit_cloudy','mnth_Nov',  'mnth_Dec', 'mnth_Jul', 'mnth_Aug','mnth_Jun','YearMonth', 'temp']\n",
    "# x_train_rfe = x_train[cols]\n",
    "df_stats(x_train, y_train,cols)\n",
    "print()\n",
    "print()\n",
    "vif_stats(x_train, cols)\n",
    "print()\n",
    "print()\n",
    "modal_Performance(x_train,x_test,y_train,y_test,cols)"
   ]
  },
  {
   "cell_type": "code",
   "execution_count": null,
   "metadata": {},
   "outputs": [],
   "source": []
  },
  {
   "cell_type": "code",
   "execution_count": null,
   "metadata": {},
   "outputs": [],
   "source": []
  },
  {
   "cell_type": "code",
   "execution_count": null,
   "metadata": {},
   "outputs": [],
   "source": []
  },
  {
   "cell_type": "code",
   "execution_count": null,
   "metadata": {},
   "outputs": [],
   "source": []
  },
  {
   "cell_type": "code",
   "execution_count": null,
   "metadata": {},
   "outputs": [],
   "source": []
  },
  {
   "cell_type": "code",
   "execution_count": null,
   "metadata": {},
   "outputs": [],
   "source": []
  },
  {
   "cell_type": "code",
   "execution_count": null,
   "metadata": {},
   "outputs": [],
   "source": []
  }
 ],
 "metadata": {
  "kernelspec": {
   "display_name": "Python 3",
   "language": "python",
   "name": "python3"
  },
  "language_info": {
   "codemirror_mode": {
    "name": "ipython",
    "version": 3
   },
   "file_extension": ".py",
   "mimetype": "text/x-python",
   "name": "python",
   "nbconvert_exporter": "python",
   "pygments_lexer": "ipython3",
   "version": "3.8.5"
  }
 },
 "nbformat": 4,
 "nbformat_minor": 4
}
